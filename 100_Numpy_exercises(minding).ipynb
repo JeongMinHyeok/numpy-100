{
 "cells": [
  {
   "cell_type": "markdown",
   "id": "bf79c78b",
   "metadata": {
    "tags": []
   },
   "source": [
    "# 100 numpy exercises\n",
    "\n",
    "This is a collection of exercises that have been collected in the numpy mailing list, on stack overflow\n",
    "and in the numpy documentation. The goal of this collection is to offer a quick reference for both old\n",
    "and new users but also to provide a set of exercises for those who teach.\n",
    "\n",
    "\n",
    "If you find an error or think you've a better way to solve some of them, feel\n",
    "free to open an issue at <https://github.com/rougier/numpy-100>."
   ]
  },
  {
   "cell_type": "markdown",
   "id": "8536e059",
   "metadata": {},
   "source": [
    "File automatically generated. See the documentation to update questions/answers/hints programmatically."
   ]
  },
  {
   "cell_type": "markdown",
   "id": "e16ac60b",
   "metadata": {},
   "source": [
    "Run the `initialize.py` module, then for each question you can query the\n",
    "answer or an hint with `hint(n)` or `answer(n)` for `n` question number."
   ]
  },
  {
   "cell_type": "code",
   "execution_count": 1,
   "id": "a8453483",
   "metadata": {},
   "outputs": [],
   "source": [
    "%run initialise.py\n",
    "from PIL import Image"
   ]
  },
  {
   "cell_type": "markdown",
   "id": "017db353",
   "metadata": {},
   "source": [
    "#### 1. Import the numpy package under the name `np` (★☆☆)"
   ]
  },
  {
   "cell_type": "code",
   "execution_count": 4,
   "id": "68182a76",
   "metadata": {},
   "outputs": [
    {
     "name": "stdout",
     "output_type": "stream",
     "text": [
      "import numpy as np\n"
     ]
    }
   ],
   "source": [
    "import numpy as np\n",
    "answer(1)"
   ]
  },
  {
   "cell_type": "markdown",
   "id": "46950f4f",
   "metadata": {},
   "source": [
    "#### 2. Print the numpy version and the configuration (★☆☆)"
   ]
  },
  {
   "cell_type": "code",
   "execution_count": 5,
   "id": "2a9f5838",
   "metadata": {},
   "outputs": [
    {
     "name": "stdout",
     "output_type": "stream",
     "text": [
      "1.19.5\n",
      "print(np.__version__)\n",
      "np.show_config()\n"
     ]
    }
   ],
   "source": [
    "print(np.__version__)\n",
    "answer(2)"
   ]
  },
  {
   "cell_type": "markdown",
   "id": "e3c20b3d",
   "metadata": {},
   "source": [
    "#### 3. Create a null vector of size 10 (★☆☆)\n",
    "- null vector는 zero vector를 뜻함"
   ]
  },
  {
   "cell_type": "code",
   "execution_count": 6,
   "id": "8a758bcf",
   "metadata": {},
   "outputs": [
    {
     "name": "stdout",
     "output_type": "stream",
     "text": [
      "[0. 0. 0. 0. 0. 0. 0. 0. 0. 0.]\n",
      "Z = np.zeros(10)\n",
      "print(Z)\n"
     ]
    }
   ],
   "source": [
    "z = np.zeros(10)\n",
    "print(z)\n",
    "answer(3)"
   ]
  },
  {
   "cell_type": "markdown",
   "id": "b15a879f",
   "metadata": {},
   "source": [
    "#### 4. How to find the memory size of any array (★☆☆)\n",
    "- array의 메모리 사이즈 찾는 방법\n",
    "- numpy.ndarray.nbytes를 사용해서도 간단하게 구할 수 있다."
   ]
  },
  {
   "cell_type": "code",
   "execution_count": 7,
   "id": "1cc3cbc5",
   "metadata": {},
   "outputs": [
    {
     "name": "stdout",
     "output_type": "stream",
     "text": [
      "80\n",
      "80\n",
      "80\n"
     ]
    }
   ],
   "source": [
    "print(z.nbytes)\n",
    "print(z.size * z.itemsize)\n",
    "print(np.prod(z.shape) * z.itemsize)"
   ]
  },
  {
   "cell_type": "markdown",
   "id": "0a708990",
   "metadata": {},
   "source": [
    "#### 5. How to get the documentation of the numpy add function from the command line? (★☆☆)\n",
    "- numpy의 add function에 대한 설명문서를 불러오는 방법"
   ]
  },
  {
   "cell_type": "code",
   "execution_count": 11,
   "id": "477e01f4",
   "metadata": {},
   "outputs": [
    {
     "name": "stdout",
     "output_type": "stream",
     "text": [
      "add(x1, x2, /, out=None, *, where=True, casting='same_kind', order='K', dtype=None, subok=True[, signature, extobj])\n",
      "\n",
      "Add arguments element-wise.\n",
      "\n",
      "Parameters\n",
      "----------\n",
      "x1, x2 : array_like\n",
      "    The arrays to be added.\n",
      "    If ``x1.shape != x2.shape``, they must be broadcastable to a common\n",
      "    shape (which becomes the shape of the output).\n",
      "out : ndarray, None, or tuple of ndarray and None, optional\n",
      "    A location into which the result is stored. If provided, it must have\n",
      "    a shape that the inputs broadcast to. If not provided or None,\n",
      "    a freshly-allocated array is returned. A tuple (possible only as a\n",
      "    keyword argument) must have length equal to the number of outputs.\n",
      "where : array_like, optional\n",
      "    This condition is broadcast over the input. At locations where the\n",
      "    condition is True, the `out` array will be set to the ufunc result.\n",
      "    Elsewhere, the `out` array will retain its original value.\n",
      "    Note that if an uninitialized `out` array is created via the default\n",
      "    ``out=None``, locations within it where the condition is False will\n",
      "    remain uninitialized.\n",
      "**kwargs\n",
      "    For other keyword-only arguments, see the\n",
      "    :ref:`ufunc docs <ufuncs.kwargs>`.\n",
      "\n",
      "Returns\n",
      "-------\n",
      "add : ndarray or scalar\n",
      "    The sum of `x1` and `x2`, element-wise.\n",
      "    This is a scalar if both `x1` and `x2` are scalars.\n",
      "\n",
      "Notes\n",
      "-----\n",
      "Equivalent to `x1` + `x2` in terms of array broadcasting.\n",
      "\n",
      "Examples\n",
      "--------\n",
      ">>> np.add(1.0, 4.0)\n",
      "5.0\n",
      ">>> x1 = np.arange(9.0).reshape((3, 3))\n",
      ">>> x2 = np.arange(3.0)\n",
      ">>> np.add(x1, x2)\n",
      "array([[  0.,   2.,   4.],\n",
      "       [  3.,   5.,   7.],\n",
      "       [  6.,   8.,  10.]])\n"
     ]
    }
   ],
   "source": [
    "!python -c \"import numpy; numpy.info(numpy.add)\""
   ]
  },
  {
   "cell_type": "markdown",
   "id": "0b16cd77",
   "metadata": {},
   "source": [
    "#### 6. Create a null vector of size 10 but the fifth value which is 1 (★☆☆)\n",
    "- size가 10인 null vector를 만들고 5번째 원소는 1로 만들기"
   ]
  },
  {
   "cell_type": "code",
   "execution_count": 12,
   "id": "4d9b5975",
   "metadata": {},
   "outputs": [
    {
     "name": "stdout",
     "output_type": "stream",
     "text": [
      "[0. 0. 0. 0. 1. 0. 0. 0. 0. 0.]\n"
     ]
    }
   ],
   "source": [
    "z = np.zeros(10)\n",
    "z[4] = 1\n",
    "print(z)"
   ]
  },
  {
   "cell_type": "markdown",
   "id": "782d4c77",
   "metadata": {},
   "source": [
    "#### 7. Create a vector with values ranging from 10 to 49 (★☆☆)\n",
    "- 값이 10에서 49를 원소로 가지고 있는 벡터 만들기"
   ]
  },
  {
   "cell_type": "code",
   "execution_count": 15,
   "id": "5dbe1a08",
   "metadata": {},
   "outputs": [
    {
     "name": "stdout",
     "output_type": "stream",
     "text": [
      "[10 11 12 13 14 15 16 17 18 19 20 21 22 23 24 25 26 27 28 29 30 31 32 33\n",
      " 34 35 36 37 38 39 40 41 42 43 44 45 46 47 48 49]\n",
      "Z = np.arange(10,50)\n",
      "print(Z)\n"
     ]
    }
   ],
   "source": [
    "x = np.arange(10,50)\n",
    "print(x)\n",
    "answer(7)"
   ]
  },
  {
   "cell_type": "markdown",
   "id": "48d48f01",
   "metadata": {},
   "source": [
    "#### 8. Reverse a vector (first element becomes last) (★☆☆)\n",
    "- 위 배열의 원소를 뒤집는 문제\n",
    "- 인덱스를 이용해서 해결 가능\n",
    "- np.flip()을 통해 해결 가능"
   ]
  },
  {
   "cell_type": "code",
   "execution_count": 17,
   "id": "3ed233e7",
   "metadata": {},
   "outputs": [
    {
     "name": "stdout",
     "output_type": "stream",
     "text": [
      "[49 48 47 46 45 44 43 42 41 40 39 38 37 36 35 34 33 32 31 30 29 28 27 26\n",
      " 25 24 23 22 21 20 19 18 17 16 15 14 13 12 11 10]\n",
      "[49 48 47 46 45 44 43 42 41 40 39 38 37 36 35 34 33 32 31 30 29 28 27 26\n",
      " 25 24 23 22 21 20 19 18 17 16 15 14 13 12 11 10]\n"
     ]
    }
   ],
   "source": [
    "# 인덱스로 해결\n",
    "print(x[::-1])\n",
    "print(np.flip(x))"
   ]
  },
  {
   "cell_type": "code",
   "execution_count": 22,
   "id": "6603e9a0",
   "metadata": {},
   "outputs": [
    {
     "name": "stdout",
     "output_type": "stream",
     "text": [
      "Z = np.arange(50)\n",
      "Z = Z[::-1]\n",
      "print(Z)\n"
     ]
    }
   ],
   "source": [
    "answer(8)"
   ]
  },
  {
   "cell_type": "markdown",
   "id": "4fa39382",
   "metadata": {},
   "source": [
    "#### 9. Create a 3x3 matrix with values ranging from 0 to 8 (★☆☆)\n",
    "- 0부터 8을 원소로 가지는 3 x 3의 행렬을 만들어라"
   ]
  },
  {
   "cell_type": "code",
   "execution_count": 21,
   "id": "c97757ec",
   "metadata": {},
   "outputs": [
    {
     "name": "stdout",
     "output_type": "stream",
     "text": [
      "[[0 1 2]\n",
      " [3 4 5]\n",
      " [6 7 8]]\n"
     ]
    }
   ],
   "source": [
    "matrix = np.arange(0,9).reshape([3,3])\n",
    "print(matrix)"
   ]
  },
  {
   "cell_type": "code",
   "execution_count": 23,
   "id": "ec71a622",
   "metadata": {},
   "outputs": [
    {
     "name": "stdout",
     "output_type": "stream",
     "text": [
      "Z = np.arange(9).reshape(3, 3)\n",
      "print(Z)\n"
     ]
    }
   ],
   "source": [
    "answer(9)"
   ]
  },
  {
   "cell_type": "markdown",
   "id": "da64551a",
   "metadata": {},
   "source": [
    "#### 10. Find indices of non-zero elements from [1,2,0,0,4,0] (★☆☆)\n",
    "- [1,2,0,0,4,0]에서 0이 아닌 요소의 인덱스 찾기\n",
    "- 조건에 맞는 값의 인덱스 찾아주는 np.where() 메서드 사용하여 해결\n",
    "- 리스트는 array로 바꿔주어야 함\n",
    "- np.nonzero() 메서드 사용하여 해결가능"
   ]
  },
  {
   "cell_type": "code",
   "execution_count": 25,
   "id": "327f7adb",
   "metadata": {
    "scrolled": true
   },
   "outputs": [
    {
     "data": {
      "text/plain": [
       "(array([0, 1, 4], dtype=int64),)"
      ]
     },
     "execution_count": 25,
     "metadata": {},
     "output_type": "execute_result"
    }
   ],
   "source": [
    "f = np.array([1,2,0,0,4,0])\n",
    "np.where(f != 0)"
   ]
  },
  {
   "cell_type": "code",
   "execution_count": 27,
   "id": "10092d1b",
   "metadata": {},
   "outputs": [
    {
     "data": {
      "text/plain": [
       "(array([0, 1, 4], dtype=int64),)"
      ]
     },
     "execution_count": 27,
     "metadata": {},
     "output_type": "execute_result"
    }
   ],
   "source": [
    "np.nonzero(f)"
   ]
  },
  {
   "cell_type": "code",
   "execution_count": 26,
   "id": "b6406372",
   "metadata": {},
   "outputs": [
    {
     "name": "stdout",
     "output_type": "stream",
     "text": [
      "nz = np.nonzero([1,2,0,0,4,0])\n",
      "print(nz)\n"
     ]
    }
   ],
   "source": [
    "answer(10)"
   ]
  },
  {
   "cell_type": "markdown",
   "id": "f89d9c9e",
   "metadata": {},
   "source": [
    "#### 11. Create a 3x3 identity matrix (★☆☆)\n",
    "- 3 x 3의 항등행렬을 만들어라\n",
    "- np.identity() 메서드와 np.eye() 메서드로 만들 수 있음\n",
    "- identity()는 정방단위행렬(N x N), eye()는 대각행렬 (N x M 가능)"
   ]
  },
  {
   "cell_type": "code",
   "execution_count": 29,
   "id": "ba625832",
   "metadata": {},
   "outputs": [
    {
     "data": {
      "text/plain": [
       "array([[1., 0., 0.],\n",
       "       [0., 1., 0.],\n",
       "       [0., 0., 1.]])"
      ]
     },
     "execution_count": 29,
     "metadata": {},
     "output_type": "execute_result"
    }
   ],
   "source": [
    "np.identity(3)"
   ]
  },
  {
   "cell_type": "code",
   "execution_count": 30,
   "id": "4507a6ef",
   "metadata": {},
   "outputs": [
    {
     "data": {
      "text/plain": [
       "array([[1., 0., 0.],\n",
       "       [0., 1., 0.],\n",
       "       [0., 0., 1.]])"
      ]
     },
     "execution_count": 30,
     "metadata": {},
     "output_type": "execute_result"
    }
   ],
   "source": [
    "np.eye(3)"
   ]
  },
  {
   "cell_type": "code",
   "execution_count": 31,
   "id": "7b6700eb",
   "metadata": {},
   "outputs": [
    {
     "name": "stdout",
     "output_type": "stream",
     "text": [
      "Z = np.eye(3)\n",
      "print(Z)\n"
     ]
    }
   ],
   "source": [
    "answer(11)"
   ]
  },
  {
   "cell_type": "markdown",
   "id": "7e44c6fa",
   "metadata": {},
   "source": [
    "#### 12. Create a 3x3x3 array with random values (★☆☆)\n",
    "- 무작위 원소를 가진 3x3x3의 array를 만들어라\n",
    "- np.random.random() 이용하여 무작위 원소 적용"
   ]
  },
  {
   "cell_type": "code",
   "execution_count": 34,
   "id": "1cb3dddf",
   "metadata": {},
   "outputs": [
    {
     "data": {
      "text/plain": [
       "array([[[0.92842722, 0.92574424, 0.07725618],\n",
       "        [0.75726719, 0.75362092, 0.22836732],\n",
       "        [0.12551308, 0.9106576 , 0.17518133]],\n",
       "\n",
       "       [[0.06029213, 0.99286814, 0.80926844],\n",
       "        [0.42243376, 0.95335137, 0.18474632],\n",
       "        [0.04488715, 0.89688706, 0.37775391]],\n",
       "\n",
       "       [[0.94077574, 0.91818125, 0.35818829],\n",
       "        [0.76793943, 0.12810186, 0.99508023],\n",
       "        [0.4833759 , 0.59272653, 0.01835418]]])"
      ]
     },
     "execution_count": 34,
     "metadata": {},
     "output_type": "execute_result"
    }
   ],
   "source": [
    "rand = np.random.random([3,3,3])\n",
    "rand"
   ]
  },
  {
   "cell_type": "code",
   "execution_count": 39,
   "id": "e88ecf08",
   "metadata": {},
   "outputs": [
    {
     "name": "stdout",
     "output_type": "stream",
     "text": [
      "Z = np.random.random((3,3,3))\n",
      "print(Z)\n"
     ]
    }
   ],
   "source": [
    "answer(12)"
   ]
  },
  {
   "cell_type": "markdown",
   "id": "13c5928c",
   "metadata": {},
   "source": [
    "#### 13. Create a 10x10 array with random values and find the minimum and maximum values (★☆☆)\n",
    "- 10x10의 무작위 원소를 가진 array를 만들고 최솟값과 최댓값을 찾아라.\n",
    "- max()와 min()사용"
   ]
  },
  {
   "cell_type": "code",
   "execution_count": 37,
   "id": "911c9b93",
   "metadata": {},
   "outputs": [
    {
     "name": "stdout",
     "output_type": "stream",
     "text": [
      "0.9991753105525707\n",
      "0.0009901146637728564\n"
     ]
    }
   ],
   "source": [
    "rand = np.random.random([10,10])\n",
    "print(rand.max())\n",
    "print(rand.min())"
   ]
  },
  {
   "cell_type": "code",
   "execution_count": 40,
   "id": "d4d37530",
   "metadata": {},
   "outputs": [
    {
     "name": "stdout",
     "output_type": "stream",
     "text": [
      "Z = np.random.random((10,10))\n",
      "Zmin, Zmax = Z.min(), Z.max()\n",
      "print(Zmin, Zmax)\n"
     ]
    }
   ],
   "source": [
    "answer(13)"
   ]
  },
  {
   "cell_type": "markdown",
   "id": "3fa2e461",
   "metadata": {},
   "source": [
    "#### 14. Create a random vector of size 30 and find the mean value (★☆☆)\n",
    "- size가 30인 무작위 벡터를 만들고 평균값을 구하라\n",
    "- mean() 사용"
   ]
  },
  {
   "cell_type": "code",
   "execution_count": 38,
   "id": "323eb38a",
   "metadata": {},
   "outputs": [
    {
     "name": "stdout",
     "output_type": "stream",
     "text": [
      "0.4806686507779948\n"
     ]
    }
   ],
   "source": [
    "rand = np.random.random(30)\n",
    "print(rand.mean())"
   ]
  },
  {
   "cell_type": "code",
   "execution_count": 41,
   "id": "d2f8ba49",
   "metadata": {},
   "outputs": [
    {
     "name": "stdout",
     "output_type": "stream",
     "text": [
      "Z = np.random.random(30)\n",
      "m = Z.mean()\n",
      "print(m)\n"
     ]
    }
   ],
   "source": [
    "answer(14)"
   ]
  },
  {
   "cell_type": "markdown",
   "id": "73f7a549",
   "metadata": {},
   "source": [
    "#### 15. Create a 2d array with 1 on the border and 0 inside (★☆☆)\n",
    "- 테두리의 원소가 1이고 안쪽 원소가 0인 2차원 배열을 만들어라"
   ]
  },
  {
   "cell_type": "code",
   "execution_count": 43,
   "id": "e3a6807d",
   "metadata": {},
   "outputs": [
    {
     "data": {
      "text/plain": [
       "array([[1., 1., 1., 1., 1.],\n",
       "       [1., 1., 1., 1., 1.],\n",
       "       [1., 1., 1., 1., 1.]])"
      ]
     },
     "execution_count": 43,
     "metadata": {},
     "output_type": "execute_result"
    }
   ],
   "source": [
    "arr = np.ones((3,5))\n",
    "arr"
   ]
  },
  {
   "cell_type": "code",
   "execution_count": 44,
   "id": "fe61562b",
   "metadata": {},
   "outputs": [
    {
     "data": {
      "text/plain": [
       "array([[1., 1., 1., 1., 1.],\n",
       "       [1., 0., 0., 0., 1.],\n",
       "       [1., 1., 1., 1., 1.]])"
      ]
     },
     "execution_count": 44,
     "metadata": {},
     "output_type": "execute_result"
    }
   ],
   "source": [
    "arr[1,1:4] = 0\n",
    "arr"
   ]
  },
  {
   "cell_type": "code",
   "execution_count": 45,
   "id": "3ff2edab",
   "metadata": {},
   "outputs": [
    {
     "name": "stdout",
     "output_type": "stream",
     "text": [
      "Z = np.ones((10,10))\n",
      "Z[1:-1,1:-1] = 0\n",
      "print(Z)\n"
     ]
    }
   ],
   "source": [
    "answer(15)"
   ]
  },
  {
   "cell_type": "markdown",
   "id": "6d0c506f",
   "metadata": {},
   "source": [
    "#### 16. How to add a border (filled with 0's) around an existing array? (★☆☆)\n",
    "- 기존 배열에 (0으로 채워진) 새로운 테두리를 추가하는 방법은?\n",
    "- np.pad()로 채울 수 있음\n",
    "- 팬시 인덱싱으로도 해결가능하다."
   ]
  },
  {
   "cell_type": "code",
   "execution_count": 47,
   "id": "32ffee7b",
   "metadata": {},
   "outputs": [
    {
     "name": "stdout",
     "output_type": "stream",
     "text": [
      "[[0. 0. 0. 0. 0. 0. 0.]\n",
      " [0. 1. 1. 1. 1. 1. 0.]\n",
      " [0. 1. 1. 1. 1. 1. 0.]\n",
      " [0. 1. 1. 1. 1. 1. 0.]\n",
      " [0. 1. 1. 1. 1. 1. 0.]\n",
      " [0. 1. 1. 1. 1. 1. 0.]\n",
      " [0. 0. 0. 0. 0. 0. 0.]]\n"
     ]
    }
   ],
   "source": [
    "Z = np.ones((5,5))\n",
    "Z = np.pad(Z, pad_width=1, mode='constant', constant_values=0)\n",
    "print(Z)"
   ]
  },
  {
   "cell_type": "code",
   "execution_count": 46,
   "id": "44d1067a",
   "metadata": {},
   "outputs": [
    {
     "name": "stdout",
     "output_type": "stream",
     "text": [
      "Z = np.ones((5,5))\n",
      "Z = np.pad(Z, pad_width=1, mode='constant', constant_values=0)\n",
      "print(Z)\n",
      "\n",
      "# Using fancy indexing\n",
      "Z[:, [0, -1]] = 0\n",
      "Z[[0, -1], :] = 0\n",
      "print(Z)\n"
     ]
    }
   ],
   "source": [
    "answer(16)"
   ]
  },
  {
   "cell_type": "markdown",
   "id": "d6ad1a9f",
   "metadata": {},
   "source": [
    "#### 17. What is the result of the following expression? (★☆☆)\n",
    "- 다음 식의 결과는?\n",
    "\n",
    "\n",
    "```python\n",
    "0 * np.nan\n",
    "np.nan == np.nan\n",
    "np.inf > np.nan\n",
    "np.nan - np.nan\n",
    "np.nan in set([np.nan])\n",
    "0.3 == 3 * 0.1\n",
    "```"
   ]
  },
  {
   "cell_type": "markdown",
   "id": "b38a82e7",
   "metadata": {},
   "source": [
    "1. nan\n",
    "2. False\n",
    "3. False\n",
    "4. nan\n",
    "5. True\n",
    "6. False\n",
    "\n",
    "1~4 : nan은 '정의되지 않은 수'이기 때문에 비교하거나 연산할 수 없다.\n",
    "\n",
    "5 : np.nan은 np.nan의 집합 내에 속한다.\n",
    "\n",
    "6 : 3.0 * 0.1은 0.3으로 나오지 않고 0.300000000004로 출력된다. 이는 부동소수점에 의한 오차를 나타낸다.\n",
    "\n",
    "(6번 설명출처: https://leechamin.tistory.com/31 [참신러닝 (Fresh-Learning)])"
   ]
  },
  {
   "cell_type": "code",
   "execution_count": 55,
   "id": "6e423216",
   "metadata": {},
   "outputs": [
    {
     "name": "stdout",
     "output_type": "stream",
     "text": [
      "nan\n",
      "False\n",
      "False\n",
      "nan\n",
      "True\n",
      "False\n"
     ]
    }
   ],
   "source": [
    "print(0 * np.nan)\n",
    "print(np.nan == np.nan)\n",
    "print(np.inf > np.nan)\n",
    "print(np.nan - np.nan)\n",
    "print(np.nan in set([np.nan]))\n",
    "print(0.3 == 3 * 0.1)"
   ]
  },
  {
   "cell_type": "markdown",
   "id": "e3a7ba7f",
   "metadata": {},
   "source": [
    "#### 18. Create a 5x5 matrix with values 1,2,3,4 just below the diagonal (★☆☆)\n",
    "- 대각선 바로 아래에 값 1,2,3,4가 있는 5x5 행렬 만들기"
   ]
  },
  {
   "cell_type": "code",
   "execution_count": 56,
   "id": "01d8e257",
   "metadata": {
    "scrolled": true
   },
   "outputs": [
    {
     "data": {
      "text/plain": [
       "array([[0, 0, 0, 0, 0],\n",
       "       [1, 0, 0, 0, 0],\n",
       "       [0, 2, 0, 0, 0],\n",
       "       [0, 0, 3, 0, 0],\n",
       "       [0, 0, 0, 4, 0]])"
      ]
     },
     "execution_count": 56,
     "metadata": {},
     "output_type": "execute_result"
    }
   ],
   "source": [
    "np.diag([1,2,3,4], k=-1)"
   ]
  },
  {
   "cell_type": "code",
   "execution_count": 53,
   "id": "025131c3",
   "metadata": {},
   "outputs": [
    {
     "name": "stdout",
     "output_type": "stream",
     "text": [
      "[[0 0 0 0 0]\n",
      " [1 0 0 0 0]\n",
      " [0 2 0 0 0]\n",
      " [0 0 3 0 0]\n",
      " [0 0 0 4 0]]\n"
     ]
    }
   ],
   "source": [
    "Z = np.diag(1+np.arange(4),k=-1)\n",
    "print(Z)"
   ]
  },
  {
   "cell_type": "code",
   "execution_count": 52,
   "id": "b71be77d",
   "metadata": {},
   "outputs": [
    {
     "name": "stdout",
     "output_type": "stream",
     "text": [
      "Z = np.diag(1+np.arange(4),k=-1)\n",
      "print(Z)\n"
     ]
    }
   ],
   "source": [
    "answer(18)"
   ]
  },
  {
   "cell_type": "markdown",
   "id": "6d17ab5d",
   "metadata": {},
   "source": [
    "#### 19. Create a 8x8 matrix and fill it with a checkerboard pattern (★☆☆)\n",
    "- 8x8 매트릭스를 만들고 체커보드 패턴으로 채웁니다.\n",
    "- 팬시인덱싱을 이용해 해결\n",
    "- [A::B]는 A부터 B의 step만큼 건너뛰며 slicing 한다는 뜻\n",
    "- np.tile로도 해결가능"
   ]
  },
  {
   "cell_type": "code",
   "execution_count": 66,
   "id": "841373cd",
   "metadata": {},
   "outputs": [
    {
     "name": "stdout",
     "output_type": "stream",
     "text": [
      "[[0. 1. 0. 1. 0. 1. 0. 1.]\n",
      " [1. 0. 1. 0. 1. 0. 1. 0.]\n",
      " [0. 1. 0. 1. 0. 1. 0. 1.]\n",
      " [1. 0. 1. 0. 1. 0. 1. 0.]\n",
      " [0. 1. 0. 1. 0. 1. 0. 1.]\n",
      " [1. 0. 1. 0. 1. 0. 1. 0.]\n",
      " [0. 1. 0. 1. 0. 1. 0. 1.]\n",
      " [1. 0. 1. 0. 1. 0. 1. 0.]]\n"
     ]
    }
   ],
   "source": [
    "matrix = np.zeros((8,8))\n",
    "matrix[::2, 1::2] = 1\n",
    "matrix[1::2, ::2] = 1\n",
    "print(matrix)"
   ]
  },
  {
   "cell_type": "code",
   "execution_count": 68,
   "id": "e53ee1f2",
   "metadata": {
    "scrolled": true
   },
   "outputs": [
    {
     "name": "stdout",
     "output_type": "stream",
     "text": [
      "[[0 1 0 1 0 1 0 1]\n",
      " [1 0 1 0 1 0 1 0]\n",
      " [0 1 0 1 0 1 0 1]\n",
      " [1 0 1 0 1 0 1 0]\n",
      " [0 1 0 1 0 1 0 1]\n",
      " [1 0 1 0 1 0 1 0]\n",
      " [0 1 0 1 0 1 0 1]\n",
      " [1 0 1 0 1 0 1 0]]\n"
     ]
    }
   ],
   "source": [
    "matrix = np.tile(np.array([[0, 1], [1, 0]]), (4, 4))\n",
    "print(matrix)"
   ]
  },
  {
   "cell_type": "code",
   "execution_count": 69,
   "id": "b0514ac7",
   "metadata": {},
   "outputs": [
    {
     "name": "stdout",
     "output_type": "stream",
     "text": [
      "Z = np.zeros((8,8),dtype=int)\n",
      "Z[1::2,::2] = 1\n",
      "Z[::2,1::2] = 1\n",
      "print(Z)\n"
     ]
    }
   ],
   "source": [
    "answer(19)"
   ]
  },
  {
   "cell_type": "markdown",
   "id": "8837119b",
   "metadata": {},
   "source": [
    "#### 20. Consider a (6,7,8) shape array, what is the index (x,y,z) of the 100th element? (★☆☆)\n",
    "- (6,7,8) 모양 배열을 고려하면 100 번째 요소의 인덱스 (x, y, z)는 무엇입니까?\n",
    "- np.unravel_index : 플랫 인덱스 또는 플랫 인덱스 배열을 튜플 좌표 배열로 변환합니다."
   ]
  },
  {
   "cell_type": "code",
   "execution_count": 72,
   "id": "2c0d16f1",
   "metadata": {},
   "outputs": [
    {
     "name": "stdout",
     "output_type": "stream",
     "text": [
      "(1, 5, 3)\n"
     ]
    }
   ],
   "source": [
    "z = np.unravel_index(99,(6,7,8))\n",
    "print(z)"
   ]
  },
  {
   "cell_type": "code",
   "execution_count": 71,
   "id": "5717637b",
   "metadata": {},
   "outputs": [
    {
     "name": "stdout",
     "output_type": "stream",
     "text": [
      "print(np.unravel_index(99,(6,7,8)))\n"
     ]
    }
   ],
   "source": [
    "answer(20)"
   ]
  },
  {
   "cell_type": "markdown",
   "id": "ec788c9f",
   "metadata": {},
   "source": [
    "#### 21. Create a checkerboard 8x8 matrix using the tile function (★☆☆)\n",
    "- 타일 함수를 사용하여 체커보드 8x8 매트릭스 만들기"
   ]
  },
  {
   "cell_type": "code",
   "execution_count": 73,
   "id": "0a4f919f",
   "metadata": {},
   "outputs": [
    {
     "name": "stdout",
     "output_type": "stream",
     "text": [
      "[[0 1 0 1 0 1 0 1]\n",
      " [1 0 1 0 1 0 1 0]\n",
      " [0 1 0 1 0 1 0 1]\n",
      " [1 0 1 0 1 0 1 0]\n",
      " [0 1 0 1 0 1 0 1]\n",
      " [1 0 1 0 1 0 1 0]\n",
      " [0 1 0 1 0 1 0 1]\n",
      " [1 0 1 0 1 0 1 0]]\n"
     ]
    }
   ],
   "source": [
    "matrix = np.tile(np.array([[0, 1], [1, 0]]), (4, 4))\n",
    "print(matrix)"
   ]
  },
  {
   "cell_type": "markdown",
   "id": "391791e0",
   "metadata": {},
   "source": [
    "#### 22. Normalize a 5x5 random matrix (★☆☆)\n",
    "- 5x5 랜덤 행렬 정규화"
   ]
  },
  {
   "cell_type": "code",
   "execution_count": 75,
   "id": "f6533d39",
   "metadata": {},
   "outputs": [
    {
     "name": "stdout",
     "output_type": "stream",
     "text": [
      "[[ 1.4755198  -1.18436877 -1.15214335  1.60875073 -0.01677941]\n",
      " [-0.91157011 -0.53974214 -0.76255593 -0.37546198 -0.67763248]\n",
      " [ 1.66806845  1.19832749 -0.67279504  1.07368752  0.18071735]\n",
      " [ 1.22837962 -0.52696318 -0.65502861 -1.23114673 -0.69306837]\n",
      " [-0.98135635 -1.00695036  0.68384938  0.9001969   1.37006556]]\n"
     ]
    }
   ],
   "source": [
    "rand = np.random.random((5,5))\n",
    "norm = (rand - rand.mean())/rand.std()\n",
    "print(norm)"
   ]
  },
  {
   "cell_type": "code",
   "execution_count": 76,
   "id": "c8b53239",
   "metadata": {},
   "outputs": [
    {
     "name": "stdout",
     "output_type": "stream",
     "text": [
      "Z = np.random.random((5,5))\n",
      "Z = (Z - np.mean (Z)) / (np.std (Z))\n",
      "print(Z)\n"
     ]
    }
   ],
   "source": [
    "answer(22)"
   ]
  },
  {
   "cell_type": "markdown",
   "id": "1e74d39e",
   "metadata": {},
   "source": [
    "#### 23. Create a custom dtype that describes a color as four unsigned bytes (RGBA) (★☆☆)\n",
    "- 색상을 4개의 부호 없는 바이트(RGBA)로 설명하는 사용자 지정 dtype 만들기\n",
    "- data type의 축약형 중 u는 부호없는 정수로, 각각의 색깔에 해당됨"
   ]
  },
  {
   "cell_type": "code",
   "execution_count": 79,
   "id": "edb78c2e",
   "metadata": {},
   "outputs": [],
   "source": [
    "color = np.dtype([(\"r\", np.ubyte),\n",
    "                  (\"g\", np.ubyte),\n",
    "                  (\"b\", np.ubyte),\n",
    "                  (\"a\", np.ubyte)])"
   ]
  },
  {
   "cell_type": "code",
   "execution_count": 80,
   "id": "39a995cf",
   "metadata": {},
   "outputs": [
    {
     "data": {
      "text/plain": [
       "dtype([('r', 'u1'), ('g', 'u1'), ('b', 'u1'), ('a', 'u1')])"
      ]
     },
     "execution_count": 80,
     "metadata": {},
     "output_type": "execute_result"
    }
   ],
   "source": [
    "color"
   ]
  },
  {
   "cell_type": "code",
   "execution_count": 78,
   "id": "3f639d33",
   "metadata": {},
   "outputs": [
    {
     "name": "stdout",
     "output_type": "stream",
     "text": [
      "color = np.dtype([(\"r\", np.ubyte),\n",
      "                  (\"g\", np.ubyte),\n",
      "                  (\"b\", np.ubyte),\n",
      "                  (\"a\", np.ubyte)])\n"
     ]
    }
   ],
   "source": [
    "answer(23)"
   ]
  },
  {
   "cell_type": "markdown",
   "id": "78250c14",
   "metadata": {},
   "source": [
    "#### 24. Multiply a 5x3 matrix by a 3x2 matrix (real matrix product) (★☆☆)\n",
    "- 5x3 행렬에 3x2 행렬(실제 행렬 곱)을 곱합니다.\n",
    "- np.dot() 또는 @연산자 사용"
   ]
  },
  {
   "cell_type": "code",
   "execution_count": 81,
   "id": "9fe729cb",
   "metadata": {},
   "outputs": [
    {
     "data": {
      "text/plain": [
       "array([[0.38825541, 0.28442516],\n",
       "       [0.39528622, 0.14339797],\n",
       "       [1.10552462, 0.34293362],\n",
       "       [0.93457422, 0.42392023],\n",
       "       [0.32585785, 0.1383503 ]])"
      ]
     },
     "execution_count": 81,
     "metadata": {},
     "output_type": "execute_result"
    }
   ],
   "source": [
    "arr1 = np.random.random((5,3))\n",
    "arr2 = np.random.random((3,2))\n",
    "np.dot(arr1, arr2)"
   ]
  },
  {
   "cell_type": "code",
   "execution_count": 82,
   "id": "6ba9dd11",
   "metadata": {
    "scrolled": true
   },
   "outputs": [
    {
     "data": {
      "text/plain": [
       "array([[0.38825541, 0.28442516],\n",
       "       [0.39528622, 0.14339797],\n",
       "       [1.10552462, 0.34293362],\n",
       "       [0.93457422, 0.42392023],\n",
       "       [0.32585785, 0.1383503 ]])"
      ]
     },
     "execution_count": 82,
     "metadata": {},
     "output_type": "execute_result"
    }
   ],
   "source": [
    "arr1@arr2"
   ]
  },
  {
   "cell_type": "code",
   "execution_count": 83,
   "id": "58e42581",
   "metadata": {},
   "outputs": [
    {
     "name": "stdout",
     "output_type": "stream",
     "text": [
      "Z = np.dot(np.ones((5,3)), np.ones((3,2)))\n",
      "print(Z)\n",
      "\n",
      "# Alternative solution, in Python 3.5 and above\n",
      "Z = np.ones((5,3)) @ np.ones((3,2))\n",
      "print(Z)\n"
     ]
    }
   ],
   "source": [
    "answer(24)"
   ]
  },
  {
   "cell_type": "markdown",
   "id": "51898680",
   "metadata": {},
   "source": [
    "#### 25. Given a 1D array, negate all elements which are between 3 and 8, in place. (★☆☆)\n",
    "- 1차원 배열에서 3에서 8사이 값을 음수화하여라"
   ]
  },
  {
   "cell_type": "code",
   "execution_count": 86,
   "id": "51c90f2d",
   "metadata": {},
   "outputs": [
    {
     "data": {
      "text/plain": [
       "array([ 0,  1,  2, -3, -4, -5, -6, -7, -8,  9, 10])"
      ]
     },
     "execution_count": 86,
     "metadata": {},
     "output_type": "execute_result"
    }
   ],
   "source": [
    "z = np.arange(11)\n",
    "z[(2<z) & (z<9)] *= -1\n",
    "z"
   ]
  },
  {
   "cell_type": "code",
   "execution_count": 87,
   "id": "0bd8dcec",
   "metadata": {},
   "outputs": [
    {
     "name": "stdout",
     "output_type": "stream",
     "text": [
      "# Author: Evgeni Burovski\n",
      "\n",
      "Z = np.arange(11)\n",
      "Z[(3 < Z) & (Z < 8)] *= -1\n",
      "print(Z)\n"
     ]
    }
   ],
   "source": [
    "answer(25)"
   ]
  },
  {
   "cell_type": "markdown",
   "id": "89e78048",
   "metadata": {},
   "source": [
    "#### 26. What is the output of the following script? (★☆☆)\n",
    "- 다음 스크립트의 출력은 어떻게 됩니까?\n",
    "\n",
    "```python\n",
    "# Author: Jake VanderPlas\n",
    "\n",
    "print(sum(range(5),-1))\n",
    "from numpy import *\n",
    "print(sum(range(5),-1))\n",
    "```"
   ]
  },
  {
   "cell_type": "code",
   "execution_count": 88,
   "id": "b62e9d1c",
   "metadata": {},
   "outputs": [
    {
     "name": "stdout",
     "output_type": "stream",
     "text": [
      "9\n",
      "10\n"
     ]
    }
   ],
   "source": [
    "print(sum(range(5),-1))\n",
    "from numpy import *\n",
    "print(sum(range(5),-1))"
   ]
  },
  {
   "cell_type": "code",
   "execution_count": 89,
   "id": "d9c92bac",
   "metadata": {},
   "outputs": [
    {
     "data": {
      "text/plain": [
       "10"
      ]
     },
     "execution_count": 89,
     "metadata": {},
     "output_type": "execute_result"
    }
   ],
   "source": [
    "np.sum(range(5),-1)"
   ]
  },
  {
   "cell_type": "markdown",
   "id": "ebd10810",
   "metadata": {},
   "source": [
    "#### 27. Consider an integer vector Z, which of these expressions are legal? (★☆☆)\n",
    "- 정수 벡터 Z를 생각해보십시오.이 표현식 중 어느 것이 합법적입니까?\n",
    "\n",
    "```python\n",
    "Z**Z\n",
    "2 << Z >> 2\n",
    "Z <- Z\n",
    "1j*Z\n",
    "Z/1/1\n",
    "Z<Z>Z\n",
    "```"
   ]
  },
  {
   "cell_type": "code",
   "execution_count": 93,
   "id": "6ada209f",
   "metadata": {},
   "outputs": [
    {
     "name": "stdout",
     "output_type": "stream",
     "text": [
      "[        1         1         4        27       256      3125     46656\n",
      "    823543  16777216 387420489]\n",
      "[  0   1   2   4   8  16  32  64 128 256]\n",
      "[False False False False False False False False False False]\n",
      "[0.+0.j 0.+1.j 0.+2.j 0.+3.j 0.+4.j 0.+5.j 0.+6.j 0.+7.j 0.+8.j 0.+9.j]\n",
      "[0. 1. 2. 3. 4. 5. 6. 7. 8. 9.]\n"
     ]
    }
   ],
   "source": [
    "Z = np.arange(10)\n",
    "print(Z**Z)\n",
    "print(2 << Z >> 2)\n",
    "print(Z <- Z)\n",
    "print(1j*Z)\n",
    "print(Z/1/1)\n",
    "# print(Z<Z>Z) --> ilegal"
   ]
  },
  {
   "cell_type": "markdown",
   "id": "c0e940f8",
   "metadata": {},
   "source": [
    "#### 28. What are the result of the following expressions? (★☆☆)\n",
    "- 다음 표현의 결과는 무엇입니까?\n",
    "\n",
    "```python\n",
    "np.array(0) / np.array(0)\n",
    "np.array(0) // np.array(0)\n",
    "np.array([np.nan]).astype(int).astype(float)\n",
    "```"
   ]
  },
  {
   "cell_type": "code",
   "execution_count": 94,
   "id": "820dc7a5",
   "metadata": {},
   "outputs": [
    {
     "name": "stdout",
     "output_type": "stream",
     "text": [
      "nan\n",
      "0\n",
      "[-2.14748365e+09]\n"
     ]
    },
    {
     "name": "stderr",
     "output_type": "stream",
     "text": [
      "C:\\Users\\Minhyeok\\AppData\\Local\\Temp/ipykernel_12236/3912170336.py:1: RuntimeWarning: invalid value encountered in true_divide\n",
      "  print(np.array(0) / np.array(0))\n",
      "C:\\Users\\Minhyeok\\AppData\\Local\\Temp/ipykernel_12236/3912170336.py:2: RuntimeWarning: divide by zero encountered in floor_divide\n",
      "  print(np.array(0) // np.array(0))\n"
     ]
    }
   ],
   "source": [
    "print(np.array(0) / np.array(0))\n",
    "print(np.array(0) // np.array(0))\n",
    "print(np.array([np.nan]).astype(int).astype(float))"
   ]
  },
  {
   "cell_type": "markdown",
   "id": "97d191f0",
   "metadata": {},
   "source": [
    "array 나누기는 불가하다. 하지만 // : 나누기 연산 후 소수점 이하의 수를 버리고, 정수 부분의 수만 구하는 것은 가능하다.\n",
    "\n",
    "출처: https://leechamin.tistory.com/43?category=827917 [참신러닝 (Fresh-Learning)]"
   ]
  },
  {
   "cell_type": "markdown",
   "id": "22713c3f",
   "metadata": {},
   "source": [
    "#### 29. How to round away from zero a float array ? (★☆☆)\n",
    "- 부동 배열 0에서 반올림하는 방법?\n",
    "- 절댓값(abs)으로 바꾸고 np.ceil()을 통해 올림한다. (반올림 X)"
   ]
  },
  {
   "cell_type": "code",
   "execution_count": 99,
   "id": "ffbf7da1",
   "metadata": {},
   "outputs": [
    {
     "name": "stdout",
     "output_type": "stream",
     "text": [
      "[ 7.  7.  8. -9. -3.  7. -2.  5.  5. -7.]\n"
     ]
    }
   ],
   "source": [
    "Z = np.random.uniform(-10,+10,10)\n",
    "print(np.copysign(np.ceil(np.abs(Z)), Z))"
   ]
  },
  {
   "cell_type": "code",
   "execution_count": 95,
   "id": "a3e05c29",
   "metadata": {},
   "outputs": [
    {
     "name": "stdout",
     "output_type": "stream",
     "text": [
      "# Author: Charles R Harris\n",
      "\n",
      "Z = np.random.uniform(-10,+10,10)\n",
      "print(np.copysign(np.ceil(np.abs(Z)), Z))\n",
      "\n",
      "# More readable but less efficient\n",
      "print(np.where(Z>0, np.ceil(Z), np.floor(Z)))\n"
     ]
    }
   ],
   "source": [
    "answer(29)"
   ]
  },
  {
   "cell_type": "markdown",
   "id": "f1ae2c2d",
   "metadata": {},
   "source": [
    "#### 30. How to find common values between two arrays? (★☆☆)\n",
    "- 두 배열 사이의 공통 값을 찾는 방법은 무엇입니까?\n",
    "- np.intersect1d()를 이용하여 공통원소 찾음"
   ]
  },
  {
   "cell_type": "code",
   "execution_count": 106,
   "id": "599ae0a5",
   "metadata": {},
   "outputs": [
    {
     "name": "stdout",
     "output_type": "stream",
     "text": [
      "[4 5 1 0 7 1 5 6 8 9]\n",
      "[2 4 4 5 2 7 5 2 0 3]\n",
      "[0 4 5 7]\n"
     ]
    }
   ],
   "source": [
    "arr1 = np.random.randint(0,10,10)\n",
    "arr2 = np.random.randint(0,10,10)\n",
    "print(arr1)\n",
    "print(arr2)\n",
    "print(np.intersect1d(arr1, arr2))"
   ]
  },
  {
   "cell_type": "code",
   "execution_count": 107,
   "id": "6801c73d",
   "metadata": {},
   "outputs": [
    {
     "name": "stdout",
     "output_type": "stream",
     "text": [
      "Z1 = np.random.randint(0,10,10)\n",
      "Z2 = np.random.randint(0,10,10)\n",
      "print(np.intersect1d(Z1,Z2))\n"
     ]
    }
   ],
   "source": [
    "answer(30)"
   ]
  },
  {
   "cell_type": "markdown",
   "id": "34a7bdee",
   "metadata": {},
   "source": [
    "#### 31. How to ignore all numpy warnings (not recommended)? (★☆☆)\n",
    "- 모든 numpy 경고 메시지를 무시하는 방법 (권장되지 않는 방법)\n",
    "- np.seterr() 메서드 사용\n",
    "    - 부동소수점 오류 처리 방법 설정\n",
    "    - 나눗셈(divide), 오버플로우(over), 언더플로우(under), 유효하지않은(invalid) 소수점에 대해 각각 처리가능\n",
    "    - {무시, 경고, 에러발생, 함수호출, 경고출력, log객체에 기록}으로 처리가능"
   ]
  },
  {
   "attachments": {
    "image.png": {
     "image/png": "[encoded data removed]"
    }
   },
   "cell_type": "markdown",
   "id": "215acdaf",
   "metadata": {},
   "source": [
    "![image.png](attachment:image.png)"
   ]
  },
  {
   "cell_type": "code",
   "execution_count": 10,
   "id": "5aac3186",
   "metadata": {},
   "outputs": [],
   "source": [
    "# all을 ignore로 설정하여 오류발생시 아무 행동도 취하지 않게 함 (Suicide mode)\n",
    "defaults = np.seterr(all=\"ignore\")\n",
    "Z = np.ones(1) / 0"
   ]
  },
  {
   "cell_type": "code",
   "execution_count": 6,
   "id": "d91f8d7a",
   "metadata": {},
   "outputs": [],
   "source": [
    "# 원래 상태로 되돌려 놓음\n",
    "_ = np.seterr(**defaults)"
   ]
  },
  {
   "cell_type": "code",
   "execution_count": 18,
   "id": "957746fa",
   "metadata": {},
   "outputs": [],
   "source": [
    "# 경고 표시하지 않도록 np.errstate(divede='ignore') 사용\n",
    "with np.errstate(divide=\"ignore\"):\n",
    "    np.arange(3) / 0"
   ]
  },
  {
   "cell_type": "code",
   "execution_count": 3,
   "id": "befc60d1",
   "metadata": {},
   "outputs": [
    {
     "name": "stdout",
     "output_type": "stream",
     "text": [
      "# Suicide mode on\n",
      "defaults = np.seterr(all=\"ignore\")\n",
      "Z = np.ones(1) / 0\n",
      "\n",
      "# Back to sanity\n",
      "_ = np.seterr(**defaults)\n",
      "\n",
      "# Equivalently with a context manager\n",
      "with np.errstate(all=\"ignore\"):\n",
      "    np.arange(3) / 0\n"
     ]
    }
   ],
   "source": [
    "answer(31)"
   ]
  },
  {
   "cell_type": "markdown",
   "id": "37bc0973",
   "metadata": {},
   "source": [
    "#### 32. Is the following expressions true? (★☆☆)\n",
    "- 다음 표현식이 True인가?\n",
    "- np.emath.sprt(-1)은 1j로 표시되어 변수를 더 수학적으로 표현함 --> False\n",
    "\n",
    "```python\n",
    "np.sqrt(-1) == np.emath.sqrt(-1)\n",
    "```"
   ]
  },
  {
   "cell_type": "code",
   "execution_count": 20,
   "id": "c37051dd",
   "metadata": {},
   "outputs": [
    {
     "name": "stdout",
     "output_type": "stream",
     "text": [
      "nan\n",
      "1j\n"
     ]
    }
   ],
   "source": [
    "print(np.sqrt(-1))\n",
    "print(np.emath.sqrt(-1))"
   ]
  },
  {
   "cell_type": "code",
   "execution_count": 19,
   "id": "c70cbabe",
   "metadata": {
    "scrolled": true
   },
   "outputs": [
    {
     "data": {
      "text/plain": [
       "False"
      ]
     },
     "execution_count": 19,
     "metadata": {},
     "output_type": "execute_result"
    }
   ],
   "source": [
    "np.sqrt(-1) == np.emath.sqrt(-1)"
   ]
  },
  {
   "cell_type": "markdown",
   "id": "129c342d",
   "metadata": {},
   "source": [
    "#### 33. How to get the dates of yesterday, today and tomorrow? (★☆☆)\n",
    "- 어제, 오늘, 내일의 날짜를 어떻게 알 수 있나요?\n",
    "- np.datetime64()메서드와 np.timedelta64() 메서드 사용\n",
    "    - 오늘날짜 : np.datetime64('today', 'D')\n",
    "    - 오늘을 기준으로 np.timedelta64()만큼의 연산을 통해 날짜 이동\n",
    "    - np.timedelta64(1, 'D')라면 1일을 뜻한다. ('M'은 n달, 'Y'는 n년)"
   ]
  },
  {
   "cell_type": "code",
   "execution_count": 27,
   "id": "8ba1badb",
   "metadata": {},
   "outputs": [],
   "source": [
    "yesterday = np.datetime64('today', 'D') - np.timedelta64(1, 'D')\n",
    "today = np.datetime64('today', 'D')\n",
    "tomorrow = np.datetime64('today', 'D') + np.timedelta64(1, 'D')\n",
    "next_year = np.datetime64('today', 'M') + np.timedelta64(1, 'M')"
   ]
  },
  {
   "cell_type": "code",
   "execution_count": 28,
   "id": "c85a0ec3",
   "metadata": {},
   "outputs": [
    {
     "name": "stdout",
     "output_type": "stream",
     "text": [
      "2021-12-22\n",
      "2021-12-23\n",
      "2021-12-24\n",
      "2022-01\n"
     ]
    }
   ],
   "source": [
    "print(yesterday)\n",
    "print(today)\n",
    "print(tomorrow)\n",
    "print(next_year)"
   ]
  },
  {
   "cell_type": "markdown",
   "id": "42f8b2f9",
   "metadata": {},
   "source": [
    "#### 34. How to get all the dates corresponding to the month of July 2016? (★★☆)\n",
    "- 2016년 7월에 해당하는 모든 날짜를 어떻게 구하나요?\n",
    "- np.arange()를 통해 해당 범위를 순서대로 나열하고, type을 datetime64[D]로 맞추어준다."
   ]
  },
  {
   "cell_type": "code",
   "execution_count": 29,
   "id": "eb8ebe45",
   "metadata": {},
   "outputs": [
    {
     "data": {
      "text/plain": [
       "array(['2016-07-01', '2016-07-02', '2016-07-03', '2016-07-04',\n",
       "       '2016-07-05', '2016-07-06', '2016-07-07', '2016-07-08',\n",
       "       '2016-07-09', '2016-07-10', '2016-07-11', '2016-07-12',\n",
       "       '2016-07-13', '2016-07-14', '2016-07-15', '2016-07-16',\n",
       "       '2016-07-17', '2016-07-18', '2016-07-19', '2016-07-20',\n",
       "       '2016-07-21', '2016-07-22', '2016-07-23', '2016-07-24',\n",
       "       '2016-07-25', '2016-07-26', '2016-07-27', '2016-07-28',\n",
       "       '2016-07-29', '2016-07-30', '2016-07-31'], dtype='datetime64[D]')"
      ]
     },
     "execution_count": 29,
     "metadata": {},
     "output_type": "execute_result"
    }
   ],
   "source": [
    "np.arange('2016-07', '2016-08', dtype='datetime64[D]')"
   ]
  },
  {
   "cell_type": "markdown",
   "id": "252c43e2",
   "metadata": {},
   "source": [
    "#### 35. How to compute ((A+B)*(-A/2)) in place (without copy)? (★★☆)\n",
    "- 복사 없이 (A+B)*(-A/2)를 계산하는 방법은 무엇입니까?\n",
    "- numpy의 연산메서드를 활용하여 복사없이 할당하는 방법으로 진행한다."
   ]
  },
  {
   "cell_type": "code",
   "execution_count": 30,
   "id": "f06ff615",
   "metadata": {},
   "outputs": [
    {
     "name": "stdout",
     "output_type": "stream",
     "text": [
      "[-1.5 -1.5 -1.5]\n"
     ]
    }
   ],
   "source": [
    "A = np.ones(3)*1\n",
    "B = np.ones(3)*2\n",
    "np.add(A,B,out=B) # A+B의 결과를 B에 할당해놓음\n",
    "np.divide(A,2,out=A) # A/2의 결과를 A에 할당\n",
    "np.negative(A,out=A) # -(A/2)를 A에 할당\n",
    "np.multiply(A,B,out=A) # (A+B)*(-A/2)와 같은 결과\n",
    "print(A)"
   ]
  },
  {
   "cell_type": "markdown",
   "id": "486df8ea",
   "metadata": {},
   "source": [
    "#### 36. Extract the integer part of a random array of positive numbers using 4 different methods (★★☆)\n",
    "- 4가지 다른 방법을 사용하여 양의 무작위 원소 배열에서 정수 부분을 추출\n",
    "- 총 5가지 방법이 있음\n",
    "    - 배열을 1로 나눈 나머지를 빼서 정수부분 구하기\n",
    "    - np.floor()를 이용하여 내림\n",
    "    - np.ceil()를 이용하여 올림\n",
    "    - .astype(int)를 이용하여 데이터타입을 integer로 변환\n",
    "    - np.trunc()를 이용하여 소숫자리를 자른 뒤 value 표시"
   ]
  },
  {
   "cell_type": "code",
   "execution_count": 32,
   "id": "34b4fa08",
   "metadata": {},
   "outputs": [
    {
     "name": "stdout",
     "output_type": "stream",
     "text": [
      "[2. 1. 1. 7. 1. 1. 5. 1. 4. 2.]\n",
      "[2. 1. 1. 7. 1. 1. 5. 1. 4. 2.]\n",
      "[3. 2. 2. 8. 2. 2. 6. 2. 5. 3.]\n",
      "[2 1 1 7 1 1 5 1 4 2]\n",
      "[2. 1. 1. 7. 1. 1. 5. 1. 4. 2.]\n"
     ]
    }
   ],
   "source": [
    "z = np.random.uniform(0,10,10) # 양수의 무작위 원소 배열\n",
    "print(z-z%1)\n",
    "print(np.floor(z))\n",
    "print(np.ceil(z))\n",
    "print(z.astype(int))\n",
    "print(np.trunc(z))"
   ]
  },
  {
   "cell_type": "markdown",
   "id": "649e89f9",
   "metadata": {},
   "source": [
    "#### 37. Create a 5x5 matrix with row values ranging from 0 to 4 (★★☆)\n",
    "- 0 ~ 4 범위의 행 값을 사용하여 5x5 행렬 만들기\n",
    "- np.zeros()로 5x5행렬 만든다음, np.arange(5) 행을 더해주기"
   ]
  },
  {
   "cell_type": "code",
   "execution_count": 33,
   "id": "663cc611",
   "metadata": {},
   "outputs": [
    {
     "name": "stdout",
     "output_type": "stream",
     "text": [
      "[[0. 1. 2. 3. 4.]\n",
      " [0. 1. 2. 3. 4.]\n",
      " [0. 1. 2. 3. 4.]\n",
      " [0. 1. 2. 3. 4.]\n",
      " [0. 1. 2. 3. 4.]]\n"
     ]
    }
   ],
   "source": [
    "z = np.zeros((5,5))\n",
    "z += np.arange(5)\n",
    "print(z)"
   ]
  },
  {
   "cell_type": "markdown",
   "id": "3421e17f",
   "metadata": {},
   "source": [
    "#### 38. Consider a generator function that generates 10 integers and use it to build an array (★☆☆)\n",
    "- 10개의 정수를 생성하는 생성자 함수를 고려하고 이 함수를 사용하여 배열을 만들 수 있습니다.\n",
    "- python의 generator사용 (https://dojang.io/mod/page/view.php?id=2412)\n",
    "- return 대신 yield사용 (return은 그 순간 함수종료, yield는 잠깐 대기한 뒤 다시 실행)\n",
    "- np.fromiter()는 순환할 수 있는 객체로 1차원 배열 생성하는 함수"
   ]
  },
  {
   "cell_type": "code",
   "execution_count": 35,
   "id": "1b1bf6c7",
   "metadata": {},
   "outputs": [
    {
     "name": "stdout",
     "output_type": "stream",
     "text": [
      "[0. 1. 2. 3. 4. 5. 6. 7. 8. 9.]\n"
     ]
    }
   ],
   "source": [
    "def generate():\n",
    "    for x in range(10):\n",
    "        yield x\n",
    "Z = np.fromiter(generate(),dtype=float,count=-1)\n",
    "print(Z)"
   ]
  },
  {
   "cell_type": "code",
   "execution_count": 34,
   "id": "7336b8e4",
   "metadata": {},
   "outputs": [
    {
     "name": "stdout",
     "output_type": "stream",
     "text": [
      "def generate():\n",
      "    for x in range(10):\n",
      "        yield x\n",
      "Z = np.fromiter(generate(),dtype=float,count=-1)\n",
      "print(Z)\n"
     ]
    }
   ],
   "source": [
    "answer(38)"
   ]
  },
  {
   "cell_type": "markdown",
   "id": "483dd554",
   "metadata": {},
   "source": [
    "#### 39. Create a vector of size 10 with values ranging from 0 to 1, both excluded (★★☆)\n",
    "- 0에서 1 사이의 값(둘 다 제외됨)으로 크기가 10인 벡터를 만듭니다.\n",
    "- np.linspace(endpoint=False)를 통해 0~1 사이의 값으로 배열을 만듦\n",
    "    - endpoint=False는 마지막 숫자를 지정한 값이 아닌 다른 숫자로 변환\n",
    "    - 인덱스 ([1:])로 첫번째 벡터 제외하여 10개 원소 배열로 변환"
   ]
  },
  {
   "cell_type": "code",
   "execution_count": 37,
   "id": "c89b93e7",
   "metadata": {},
   "outputs": [
    {
     "data": {
      "text/plain": [
       "array([0.09090909, 0.18181818, 0.27272727, 0.36363636, 0.45454545,\n",
       "       0.54545455, 0.63636364, 0.72727273, 0.81818182, 0.90909091])"
      ]
     },
     "execution_count": 37,
     "metadata": {},
     "output_type": "execute_result"
    }
   ],
   "source": [
    "z = np.linspace(0,1,11, endpoint=False)\n",
    "z[1:]"
   ]
  },
  {
   "cell_type": "markdown",
   "id": "2d07be1c",
   "metadata": {},
   "source": [
    "#### 40. Create a random vector of size 10 and sort it (★★☆)\n",
    "- 크기가 10인 랜덤 벡터를 만들어 정렬합니다.\n",
    "- .sort() 메서드 사용"
   ]
  },
  {
   "cell_type": "code",
   "execution_count": 41,
   "id": "4f7cb3ad",
   "metadata": {},
   "outputs": [
    {
     "name": "stdout",
     "output_type": "stream",
     "text": [
      "[0.02910427 0.07655068 0.10788557 0.1092327  0.20020813 0.27126524\n",
      " 0.30010546 0.36125959 0.3664528  0.7405005 ]\n"
     ]
    }
   ],
   "source": [
    "z = np.random.random(10)\n",
    "z.sort()\n",
    "print(z)"
   ]
  },
  {
   "cell_type": "markdown",
   "id": "6415f02e",
   "metadata": {},
   "source": [
    "#### 41. How to sum a small array faster than np.sum? (★★☆)\n",
    "- 어떻게 작은 배열을 np.sum보다 더 빨리 합칠 수 있을까요?\n",
    "- np.add.reduce() 사용\n",
    "    - np.sum()의 경우 np.add.reduce()를 호출하여 사용하기 때문에 더 시간이 오래걸림\n",
    "    - 작은 배열의 경우 np.add.reduce()가 더 빠름 (배열이 커지면 그 차이는 줄어듦)"
   ]
  },
  {
   "cell_type": "code",
   "execution_count": 42,
   "id": "bb0dd942",
   "metadata": {},
   "outputs": [
    {
     "name": "stdout",
     "output_type": "stream",
     "text": [
      "45\n"
     ]
    }
   ],
   "source": [
    "A = np.arange(10)\n",
    "print(np.add.reduce(A))"
   ]
  },
  {
   "cell_type": "markdown",
   "id": "fe043549",
   "metadata": {},
   "source": [
    "#### 42. Consider two random array A and B, check if they are equal (★★☆)\n",
    "- 두 랜덤 배열 A와 B를 생각해보고, 그것들이 같은지 확인합니다.\n",
    "- 두 배열이 같은지 확인하는 방법\n",
    "    - np.allclose()\n",
    "    - np.array_equal()"
   ]
  },
  {
   "cell_type": "code",
   "execution_count": 43,
   "id": "3326a686",
   "metadata": {},
   "outputs": [
    {
     "name": "stdout",
     "output_type": "stream",
     "text": [
      "False\n",
      "False\n"
     ]
    }
   ],
   "source": [
    "a = np.random.randint(0,2,5)\n",
    "b = np.random.randint(0,2,5)\n",
    "print(np.allclose(a, b))\n",
    "print(np.array_equal(a, b))"
   ]
  },
  {
   "cell_type": "markdown",
   "id": "cc08f71c",
   "metadata": {},
   "source": [
    "#### 43. Make an array immutable (read-only) (★★☆)\n",
    "- 배열을 변경할 수 없도록 설정(읽기 전용)\n",
    "- .flags.writeable = False로 설정"
   ]
  },
  {
   "cell_type": "code",
   "execution_count": 44,
   "id": "d5cc9dbe",
   "metadata": {},
   "outputs": [
    {
     "ename": "ValueError",
     "evalue": "assignment destination is read-only",
     "output_type": "error",
     "traceback": [
      "\u001b[1;31m---------------------------------------------------------------------------\u001b[0m",
      "\u001b[1;31mValueError\u001b[0m                                Traceback (most recent call last)",
      "\u001b[1;32m~\\AppData\\Local\\Temp/ipykernel_11440/4220960641.py\u001b[0m in \u001b[0;36m<module>\u001b[1;34m\u001b[0m\n\u001b[0;32m      2\u001b[0m \u001b[0mz\u001b[0m\u001b[1;33m.\u001b[0m\u001b[0mflags\u001b[0m\u001b[1;33m.\u001b[0m\u001b[0mwriteable\u001b[0m \u001b[1;33m=\u001b[0m \u001b[1;32mFalse\u001b[0m\u001b[1;33m\u001b[0m\u001b[1;33m\u001b[0m\u001b[0m\n\u001b[0;32m      3\u001b[0m \u001b[1;31m# 값 변경 시도\u001b[0m\u001b[1;33m\u001b[0m\u001b[1;33m\u001b[0m\u001b[1;33m\u001b[0m\u001b[0m\n\u001b[1;32m----> 4\u001b[1;33m \u001b[0mz\u001b[0m\u001b[1;33m[\u001b[0m\u001b[1;36m0\u001b[0m\u001b[1;33m]\u001b[0m \u001b[1;33m=\u001b[0m \u001b[1;36m1\u001b[0m\u001b[1;33m\u001b[0m\u001b[1;33m\u001b[0m\u001b[0m\n\u001b[0m",
      "\u001b[1;31mValueError\u001b[0m: assignment destination is read-only"
     ]
    }
   ],
   "source": [
    "z = np.zeros(10)\n",
    "z.flags.writeable = False\n",
    "# 값 변경 시도\n",
    "z[0] = 1"
   ]
  },
  {
   "cell_type": "markdown",
   "id": "2002cb03",
   "metadata": {},
   "source": [
    "#### 44. Consider a random 10x2 matrix representing cartesian coordinates, convert them to polar coordinates (★★☆)\n",
    "- 데카르트 좌표를 나타내는 임의의 10x2 행렬을 고려하여 극좌표로 변환합니다.\n",
    "    - 데카르트 좌표(https://ko.wikipedia.org/wiki/%EB%8D%B0%EC%B9%B4%EB%A5%B4%ED%8A%B8_%EC%A2%8C%ED%91%9C%EA%B3%84)\n",
    "    - 극좌표계 (https://ko.wikipedia.org/wiki/%EA%B7%B9%EC%A2%8C%ED%91%9C%EA%B3%84)"
   ]
  },
  {
   "cell_type": "code",
   "execution_count": 45,
   "id": "58be72bc",
   "metadata": {},
   "outputs": [
    {
     "name": "stdout",
     "output_type": "stream",
     "text": [
      "[0.17810757 1.24709363 0.6232125  0.95463695 0.73262977 0.26021825\n",
      " 0.89916554 0.95345427 0.15387834 0.2886703 ]\n",
      "[0.12488774 0.82709858 0.6238849  0.7235353  0.19461649 1.49374656\n",
      " 0.98346331 0.06337392 1.07466376 0.66726093]\n"
     ]
    }
   ],
   "source": [
    "z = np.random.random((10, 2))\n",
    "x, y = z[:,0],z[:,1] #x와 y에 각각 0열, 1열 할당\n",
    "r = np.sqrt(x**2+y**2) # 데카르트 좌표로 표현\n",
    "p = np.arctan2(y,x) # 극좌표계표현\n",
    "print(r)\n",
    "print(p)"
   ]
  },
  {
   "cell_type": "markdown",
   "id": "b7109c9f",
   "metadata": {},
   "source": [
    "#### 45. Create random vector of size 10 and replace the maximum value by 0 (★★☆)\n",
    "- 크기가 10인 랜덤 벡터를 생성하고 최대값을 찾아 0으로 바꿉니다.\n",
    "- np.argmax()로 해당위치(인덱스) 찾을 수 있음"
   ]
  },
  {
   "cell_type": "code",
   "execution_count": 47,
   "id": "f79e79a7",
   "metadata": {},
   "outputs": [
    {
     "name": "stdout",
     "output_type": "stream",
     "text": [
      "[0.97658021 0.30344542 0.21423567 0.94912617 0.39641269 0.00362352\n",
      " 0.75071573 0.62233937 0.18350507 0.85558159]\n",
      "[0.         0.30344542 0.21423567 0.94912617 0.39641269 0.00362352\n",
      " 0.75071573 0.62233937 0.18350507 0.85558159]\n"
     ]
    }
   ],
   "source": [
    "z = np.random.random(10)\n",
    "print(z)\n",
    "# 최대값 찾아 0으로 바꿈\n",
    "z[np.argmax(z)] = 0\n",
    "print(z)"
   ]
  },
  {
   "cell_type": "markdown",
   "id": "7d3131b9",
   "metadata": {},
   "source": [
    "#### 46. Create a structured array with `x` and `y` coordinates covering the [0,1]x[0,1] area (★★☆)\n",
    "- [0,1]x[0,1] 영역을 커버하는 x 및 y 좌표를 갖는 구조화된 배열을 생성\n",
    "- 그리드포인트(x,y) 생성하여 함수 값 계산\n",
    "- np.meshgrid()를 통해 사각형 영역 구성하는 x축 및 y축 값을 인수로 받아 사각형 영역조합을 출력"
   ]
  },
  {
   "cell_type": "code",
   "execution_count": 48,
   "id": "4f471afe",
   "metadata": {},
   "outputs": [
    {
     "name": "stdout",
     "output_type": "stream",
     "text": [
      "[[(0., 0.) (0., 0.) (0., 0.) (0., 0.) (0., 0.)]\n",
      " [(0., 0.) (0., 0.) (0., 0.) (0., 0.) (0., 0.)]\n",
      " [(0., 0.) (0., 0.) (0., 0.) (0., 0.) (0., 0.)]\n",
      " [(0., 0.) (0., 0.) (0., 0.) (0., 0.) (0., 0.)]\n",
      " [(0., 0.) (0., 0.) (0., 0.) (0., 0.) (0., 0.)]]\n"
     ]
    }
   ],
   "source": [
    "# np.zeros()를 통해 (x,y)형태의 빈 array생성\n",
    "z = np.zeros((5,5), [('x',float),('y',float)])\n",
    "print(z)"
   ]
  },
  {
   "cell_type": "code",
   "execution_count": 49,
   "id": "8b44301b",
   "metadata": {
    "scrolled": true
   },
   "outputs": [
    {
     "name": "stdout",
     "output_type": "stream",
     "text": [
      "[[(0.  , 0.  ) (0.25, 0.  ) (0.5 , 0.  ) (0.75, 0.  ) (1.  , 0.  )]\n",
      " [(0.  , 0.25) (0.25, 0.25) (0.5 , 0.25) (0.75, 0.25) (1.  , 0.25)]\n",
      " [(0.  , 0.5 ) (0.25, 0.5 ) (0.5 , 0.5 ) (0.75, 0.5 ) (1.  , 0.5 )]\n",
      " [(0.  , 0.75) (0.25, 0.75) (0.5 , 0.75) (0.75, 0.75) (1.  , 0.75)]\n",
      " [(0.  , 1.  ) (0.25, 1.  ) (0.5 , 1.  ) (0.75, 1.  ) (1.  , 1.  )]]\n"
     ]
    }
   ],
   "source": [
    "# np.linspace()로 생성한 value들을 np.meshgrid를 통해 그리드포인트로 삽입\n",
    "z['x'],z['y'] = np.meshgrid(np.linspace(0,1,5),np.linspace(0,1,5))\n",
    "print(z)"
   ]
  },
  {
   "cell_type": "markdown",
   "id": "99da24ff",
   "metadata": {},
   "source": [
    "#### 추가 : meshgrid시각화"
   ]
  },
  {
   "cell_type": "code",
   "execution_count": 50,
   "id": "0086420c",
   "metadata": {},
   "outputs": [
    {
     "data": {
      "image/png": "[encoded data removed]",
      "text/plain": [
       "<Figure size 432x288 with 1 Axes>"
      ]
     },
     "metadata": {
      "needs_background": "light"
     },
     "output_type": "display_data"
    }
   ],
   "source": [
    "import matplotlib.pyplot as plt\n",
    "plt.scatter(z['x'],z['y'])\n",
    "plt.grid()"
   ]
  },
  {
   "cell_type": "markdown",
   "id": "7c8c1fc5",
   "metadata": {},
   "source": [
    "#### 47. Given two arrays, X and Y, construct the Cauchy matrix C (Cij =1/(xi - yj)) (★★☆)\n",
    "- X, Y 두 배열이 주어지면, Cauchy matrix를 만드시오\n",
    "- 설명 필요..."
   ]
  },
  {
   "cell_type": "raw",
   "id": "07af371d",
   "metadata": {},
   "source": [
    "해설 : np.subtract(A,B) 는 A-B를 의미한다. \n",
    "np.subtract.outer(A,B)를 하면 \n",
    "[[A1-B1 A1-B2 A1-B3]\n",
    "[ A2-B1 A2-B2 A2-B3]\n",
    "[ A3-B1  A3-B2 A3-B3]]\n",
    "으로 각각의 i,j에 해당하는 성분을 추출하여 뺀다.\n",
    "Linalg는 linearAlgebra를 말한다. det는 matrix의 determinant of an array를 계산한다.\n",
    "\n",
    "\n",
    "출처: https://leechamin.tistory.com/53?category=827917 [참신러닝 (Fresh-Learning)]"
   ]
  },
  {
   "cell_type": "code",
   "execution_count": 52,
   "id": "05c242eb",
   "metadata": {},
   "outputs": [
    {
     "name": "stdout",
     "output_type": "stream",
     "text": [
      "3638.1636371179666\n"
     ]
    }
   ],
   "source": [
    "X = np.arange(8)\n",
    "Y = X + 0.5\n",
    "C = 1.0 / np.subtract.outer(X, Y)\n",
    "print(np.linalg.det(C))"
   ]
  },
  {
   "cell_type": "code",
   "execution_count": 51,
   "id": "8fac7d28",
   "metadata": {},
   "outputs": [
    {
     "name": "stdout",
     "output_type": "stream",
     "text": [
      "# Author: Evgeni Burovski\n",
      "\n",
      "X = np.arange(8)\n",
      "Y = X + 0.5\n",
      "C = 1.0 / np.subtract.outer(X, Y)\n",
      "print(np.linalg.det(C))\n"
     ]
    }
   ],
   "source": [
    "answer(47)"
   ]
  },
  {
   "cell_type": "markdown",
   "id": "5795b4bd",
   "metadata": {},
   "source": [
    "#### 48. Print the minimum and maximum representable value for each numpy scalar type (★★☆)\n",
    "- 각 데이터 타입 별 표시할 수 있는 최소 및 최대 값을 출력하라\n",
    "- iinfo()는 int에 대한 정보\n",
    "- finfo()는 float에 대한 정보\n",
    "- .eps는 표현가능한 가장 작은 값을 반환"
   ]
  },
  {
   "cell_type": "code",
   "execution_count": 56,
   "id": "b721f7ca",
   "metadata": {},
   "outputs": [
    {
     "name": "stdout",
     "output_type": "stream",
     "text": [
      "-128\n",
      "127\n",
      "-2147483648\n",
      "2147483647\n",
      "-9223372036854775808\n",
      "9223372036854775807\n"
     ]
    }
   ],
   "source": [
    "for dtype in [np.int8, np.int32, np.int64]:\n",
    "    print(np.iinfo(dtype).min)\n",
    "    print(np.iinfo(dtype).max)"
   ]
  },
  {
   "cell_type": "code",
   "execution_count": 62,
   "id": "1dd212d8",
   "metadata": {
    "scrolled": true
   },
   "outputs": [
    {
     "name": "stdout",
     "output_type": "stream",
     "text": [
      "-3.4028235e+38\n",
      "3.4028235e+38\n",
      "1.1920929e-07\n",
      "-1.7976931348623157e+308\n",
      "1.7976931348623157e+308\n",
      "2.220446049250313e-16\n"
     ]
    }
   ],
   "source": [
    "for dtype in [np.float32, np.float64]:\n",
    "    print(np.finfo(dtype).min)\n",
    "    print(np.finfo(dtype).max)\n",
    "    print(np.finfo(dtype).eps)"
   ]
  },
  {
   "cell_type": "markdown",
   "id": "fb24674c",
   "metadata": {},
   "source": [
    "#### 49. How to print all the values of an array? (★★☆)\n",
    "- 배열의 모든 값을 인쇄하는 방법은 무엇입니까?\n",
    "- np.set_printoptions(threshold=float(\"inf\"))로 설정한다.\n",
    "    - threshold는 요약을 하는 배열 요소의 총 수를 나타냄 float(\"inf\")로 설정하면 요약없이 사용한다는 뜻\n",
    "    - 참고 : https://numpy.org/doc/stable/reference/generated/numpy.set_printoptions.html"
   ]
  },
  {
   "cell_type": "code",
   "execution_count": 75,
   "id": "c81f1456",
   "metadata": {},
   "outputs": [
    {
     "name": "stdout",
     "output_type": "stream",
     "text": [
      "[[0. 0. 0. ... 0. 0. 0.]\n",
      " [0. 0. 0. ... 0. 0. 0.]\n",
      " [0. 0. 0. ... 0. 0. 0.]\n",
      " ...\n",
      " [0. 0. 0. ... 0. 0. 0.]\n",
      " [0. 0. 0. ... 0. 0. 0.]\n",
      " [0. 0. 0. ... 0. 0. 0.]]\n"
     ]
    }
   ],
   "source": [
    "z = np.zeros((32,32))\n",
    "print(z)"
   ]
  },
  {
   "cell_type": "code",
   "execution_count": 76,
   "id": "21e43ebf",
   "metadata": {},
   "outputs": [
    {
     "name": "stdout",
     "output_type": "stream",
     "text": [
      "[[0. 0. 0. 0. 0. 0. 0. 0. 0. 0. 0. 0. 0. 0. 0. 0. 0. 0. 0. 0. 0. 0. 0. 0.\n",
      "  0. 0. 0. 0. 0. 0. 0. 0.]\n",
      " [0. 0. 0. 0. 0. 0. 0. 0. 0. 0. 0. 0. 0. 0. 0. 0. 0. 0. 0. 0. 0. 0. 0. 0.\n",
      "  0. 0. 0. 0. 0. 0. 0. 0.]\n",
      " [0. 0. 0. 0. 0. 0. 0. 0. 0. 0. 0. 0. 0. 0. 0. 0. 0. 0. 0. 0. 0. 0. 0. 0.\n",
      "  0. 0. 0. 0. 0. 0. 0. 0.]\n",
      " [0. 0. 0. 0. 0. 0. 0. 0. 0. 0. 0. 0. 0. 0. 0. 0. 0. 0. 0. 0. 0. 0. 0. 0.\n",
      "  0. 0. 0. 0. 0. 0. 0. 0.]\n",
      " [0. 0. 0. 0. 0. 0. 0. 0. 0. 0. 0. 0. 0. 0. 0. 0. 0. 0. 0. 0. 0. 0. 0. 0.\n",
      "  0. 0. 0. 0. 0. 0. 0. 0.]\n",
      " [0. 0. 0. 0. 0. 0. 0. 0. 0. 0. 0. 0. 0. 0. 0. 0. 0. 0. 0. 0. 0. 0. 0. 0.\n",
      "  0. 0. 0. 0. 0. 0. 0. 0.]\n",
      " [0. 0. 0. 0. 0. 0. 0. 0. 0. 0. 0. 0. 0. 0. 0. 0. 0. 0. 0. 0. 0. 0. 0. 0.\n",
      "  0. 0. 0. 0. 0. 0. 0. 0.]\n",
      " [0. 0. 0. 0. 0. 0. 0. 0. 0. 0. 0. 0. 0. 0. 0. 0. 0. 0. 0. 0. 0. 0. 0. 0.\n",
      "  0. 0. 0. 0. 0. 0. 0. 0.]\n",
      " [0. 0. 0. 0. 0. 0. 0. 0. 0. 0. 0. 0. 0. 0. 0. 0. 0. 0. 0. 0. 0. 0. 0. 0.\n",
      "  0. 0. 0. 0. 0. 0. 0. 0.]\n",
      " [0. 0. 0. 0. 0. 0. 0. 0. 0. 0. 0. 0. 0. 0. 0. 0. 0. 0. 0. 0. 0. 0. 0. 0.\n",
      "  0. 0. 0. 0. 0. 0. 0. 0.]\n",
      " [0. 0. 0. 0. 0. 0. 0. 0. 0. 0. 0. 0. 0. 0. 0. 0. 0. 0. 0. 0. 0. 0. 0. 0.\n",
      "  0. 0. 0. 0. 0. 0. 0. 0.]\n",
      " [0. 0. 0. 0. 0. 0. 0. 0. 0. 0. 0. 0. 0. 0. 0. 0. 0. 0. 0. 0. 0. 0. 0. 0.\n",
      "  0. 0. 0. 0. 0. 0. 0. 0.]\n",
      " [0. 0. 0. 0. 0. 0. 0. 0. 0. 0. 0. 0. 0. 0. 0. 0. 0. 0. 0. 0. 0. 0. 0. 0.\n",
      "  0. 0. 0. 0. 0. 0. 0. 0.]\n",
      " [0. 0. 0. 0. 0. 0. 0. 0. 0. 0. 0. 0. 0. 0. 0. 0. 0. 0. 0. 0. 0. 0. 0. 0.\n",
      "  0. 0. 0. 0. 0. 0. 0. 0.]\n",
      " [0. 0. 0. 0. 0. 0. 0. 0. 0. 0. 0. 0. 0. 0. 0. 0. 0. 0. 0. 0. 0. 0. 0. 0.\n",
      "  0. 0. 0. 0. 0. 0. 0. 0.]\n",
      " [0. 0. 0. 0. 0. 0. 0. 0. 0. 0. 0. 0. 0. 0. 0. 0. 0. 0. 0. 0. 0. 0. 0. 0.\n",
      "  0. 0. 0. 0. 0. 0. 0. 0.]\n",
      " [0. 0. 0. 0. 0. 0. 0. 0. 0. 0. 0. 0. 0. 0. 0. 0. 0. 0. 0. 0. 0. 0. 0. 0.\n",
      "  0. 0. 0. 0. 0. 0. 0. 0.]\n",
      " [0. 0. 0. 0. 0. 0. 0. 0. 0. 0. 0. 0. 0. 0. 0. 0. 0. 0. 0. 0. 0. 0. 0. 0.\n",
      "  0. 0. 0. 0. 0. 0. 0. 0.]\n",
      " [0. 0. 0. 0. 0. 0. 0. 0. 0. 0. 0. 0. 0. 0. 0. 0. 0. 0. 0. 0. 0. 0. 0. 0.\n",
      "  0. 0. 0. 0. 0. 0. 0. 0.]\n",
      " [0. 0. 0. 0. 0. 0. 0. 0. 0. 0. 0. 0. 0. 0. 0. 0. 0. 0. 0. 0. 0. 0. 0. 0.\n",
      "  0. 0. 0. 0. 0. 0. 0. 0.]\n",
      " [0. 0. 0. 0. 0. 0. 0. 0. 0. 0. 0. 0. 0. 0. 0. 0. 0. 0. 0. 0. 0. 0. 0. 0.\n",
      "  0. 0. 0. 0. 0. 0. 0. 0.]\n",
      " [0. 0. 0. 0. 0. 0. 0. 0. 0. 0. 0. 0. 0. 0. 0. 0. 0. 0. 0. 0. 0. 0. 0. 0.\n",
      "  0. 0. 0. 0. 0. 0. 0. 0.]\n",
      " [0. 0. 0. 0. 0. 0. 0. 0. 0. 0. 0. 0. 0. 0. 0. 0. 0. 0. 0. 0. 0. 0. 0. 0.\n",
      "  0. 0. 0. 0. 0. 0. 0. 0.]\n",
      " [0. 0. 0. 0. 0. 0. 0. 0. 0. 0. 0. 0. 0. 0. 0. 0. 0. 0. 0. 0. 0. 0. 0. 0.\n",
      "  0. 0. 0. 0. 0. 0. 0. 0.]\n",
      " [0. 0. 0. 0. 0. 0. 0. 0. 0. 0. 0. 0. 0. 0. 0. 0. 0. 0. 0. 0. 0. 0. 0. 0.\n",
      "  0. 0. 0. 0. 0. 0. 0. 0.]\n",
      " [0. 0. 0. 0. 0. 0. 0. 0. 0. 0. 0. 0. 0. 0. 0. 0. 0. 0. 0. 0. 0. 0. 0. 0.\n",
      "  0. 0. 0. 0. 0. 0. 0. 0.]\n",
      " [0. 0. 0. 0. 0. 0. 0. 0. 0. 0. 0. 0. 0. 0. 0. 0. 0. 0. 0. 0. 0. 0. 0. 0.\n",
      "  0. 0. 0. 0. 0. 0. 0. 0.]\n",
      " [0. 0. 0. 0. 0. 0. 0. 0. 0. 0. 0. 0. 0. 0. 0. 0. 0. 0. 0. 0. 0. 0. 0. 0.\n",
      "  0. 0. 0. 0. 0. 0. 0. 0.]\n",
      " [0. 0. 0. 0. 0. 0. 0. 0. 0. 0. 0. 0. 0. 0. 0. 0. 0. 0. 0. 0. 0. 0. 0. 0.\n",
      "  0. 0. 0. 0. 0. 0. 0. 0.]\n",
      " [0. 0. 0. 0. 0. 0. 0. 0. 0. 0. 0. 0. 0. 0. 0. 0. 0. 0. 0. 0. 0. 0. 0. 0.\n",
      "  0. 0. 0. 0. 0. 0. 0. 0.]\n",
      " [0. 0. 0. 0. 0. 0. 0. 0. 0. 0. 0. 0. 0. 0. 0. 0. 0. 0. 0. 0. 0. 0. 0. 0.\n",
      "  0. 0. 0. 0. 0. 0. 0. 0.]\n",
      " [0. 0. 0. 0. 0. 0. 0. 0. 0. 0. 0. 0. 0. 0. 0. 0. 0. 0. 0. 0. 0. 0. 0. 0.\n",
      "  0. 0. 0. 0. 0. 0. 0. 0.]]\n"
     ]
    }
   ],
   "source": [
    "np.set_printoptions(threshold=float(\"inf\"))\n",
    "print(z)"
   ]
  },
  {
   "cell_type": "code",
   "execution_count": 70,
   "id": "e1819a5f",
   "metadata": {},
   "outputs": [
    {
     "name": "stdout",
     "output_type": "stream",
     "text": [
      "np.set_printoptions(threshold=float(\"inf\"))\n",
      "Z = np.zeros((40,40))\n",
      "print(Z)\n"
     ]
    }
   ],
   "source": [
    "answer(49)"
   ]
  },
  {
   "cell_type": "markdown",
   "id": "e6e1ae2f",
   "metadata": {},
   "source": [
    "#### 50. How to find the closest value (to a given scalar) in a vector? (★★☆)\n",
    "- 벡터에서 주어진 값에 가장 가까운 값을 찾는 방법은?\n",
    "- 주어진 값과 벡터의 각 요소를 뺀값 중 가장 작은값을 찾으면 됨\n",
    "- np.argmin() 메서드를 통해 찾기"
   ]
  },
  {
   "cell_type": "code",
   "execution_count": 91,
   "id": "a3f4f012",
   "metadata": {},
   "outputs": [
    {
     "name": "stdout",
     "output_type": "stream",
     "text": [
      "[2 9 8 2 6 9 7 3 8 4]\n",
      "인덱스: 6 /값: 7\n"
     ]
    }
   ],
   "source": [
    "# 주어진 값 = 7.3\n",
    "num = 7.3\n",
    "z = np.random.randint(0,10,10)\n",
    "print(z)\n",
    "# 주어진 값에서 가장 가까운 값 찾기\n",
    "i = np.abs((z-num)).argmin()\n",
    "# 가장 가까운값의 인덱스와 그 값 출력\n",
    "print('인덱스:', i ,'/값:', z[i])"
   ]
  },
  {
   "cell_type": "code",
   "execution_count": 85,
   "id": "73dd91cc",
   "metadata": {},
   "outputs": [
    {
     "name": "stdout",
     "output_type": "stream",
     "text": [
      "Z = np.arange(100)\n",
      "v = np.random.uniform(0,100)\n",
      "index = (np.abs(Z-v)).argmin()\n",
      "print(Z[index])\n"
     ]
    }
   ],
   "source": [
    "answer(50)"
   ]
  },
  {
   "cell_type": "markdown",
   "id": "c01f0ecf",
   "metadata": {},
   "source": [
    "#### 51. Create a structured array representing a position (x,y) and a color (r,g,b) (★★☆)\n",
    "- 위치(x,y) 및 색상(r,g,b)을 나타내는 구조화된 배열을 작성합니다.\n",
    "- np.zeros()를 통해 빈 배열 생성"
   ]
  },
  {
   "cell_type": "code",
   "execution_count": 96,
   "id": "fb8017ca",
   "metadata": {},
   "outputs": [
    {
     "data": {
      "text/plain": [
       "array([((0., 0.), (0., 0., 0.)), ((0., 0.), (0., 0., 0.)),\n",
       "       ((0., 0.), (0., 0., 0.)), ((0., 0.), (0., 0., 0.)),\n",
       "       ((0., 0.), (0., 0., 0.)), ((0., 0.), (0., 0., 0.)),\n",
       "       ((0., 0.), (0., 0., 0.)), ((0., 0.), (0., 0., 0.)),\n",
       "       ((0., 0.), (0., 0., 0.)), ((0., 0.), (0., 0., 0.))],\n",
       "      dtype=[('position', [('x', '<f8'), ('y', '<f8')]), ('color', [('r', '<f8'), ('g', '<f8'), ('b', '<f8')])])"
      ]
     },
     "execution_count": 96,
     "metadata": {},
     "output_type": "execute_result"
    }
   ],
   "source": [
    "z = np.zeros(10, [('position', [('x',float),\n",
    "                                ('y',float)]), \n",
    "                  ('color', [('r',float),\n",
    "                             ('g',float),\n",
    "                             ('b',float)])])\n",
    "\n",
    "z"
   ]
  },
  {
   "cell_type": "markdown",
   "id": "3b64a18b",
   "metadata": {},
   "source": [
    "#### 52. Consider a random vector with shape (100,2) representing coordinates, find point by point distances (★★☆)\n",
    "- 좌표를 나타내는 형태(100,2)를 갖는 랜덤 벡터를 고려합니다. 점 거리를 기준으로 점 찾기\n",
    "- 각 점(원소)을 기준으로 거리를 계산"
   ]
  },
  {
   "cell_type": "code",
   "execution_count": 97,
   "id": "4b482822",
   "metadata": {
    "scrolled": true
   },
   "outputs": [
    {
     "name": "stdout",
     "output_type": "stream",
     "text": [
      "[[0.      1.05731 0.13808 0.15902 0.78663 1.17945 0.31338 0.86942 0.88764\n",
      "  0.4998 ]\n",
      " [1.05731 0.      1.02323 0.93292 0.57421 0.31058 0.87718 0.39681 0.27589\n",
      "  0.63105]\n",
      " [0.13808 1.02323 0.      0.24039 0.83155 1.11108 0.40014 0.88755 0.8254\n",
      "  0.42138]\n",
      " [0.15902 0.93292 0.24039 0.      0.62799 1.08516 0.1611  0.71679 0.79164\n",
      "  0.44017]\n",
      " [0.78663 0.57421 0.83155 0.62799 0.      0.86181 0.49156 0.18184 0.64923\n",
      "  0.65231]\n",
      " [1.17945 0.31058 1.11108 1.08516 0.86181 0.      1.07043 0.69383 0.29358\n",
      "  0.68973]\n",
      " [0.31338 0.87718 0.40014 0.1611  0.49156 1.07043 0.      0.60575 0.78248\n",
      "  0.49644]\n",
      " [0.86942 0.39681 0.88755 0.71679 0.18184 0.69383 0.60575 0.      0.51249\n",
      "  0.62087]\n",
      " [0.88764 0.27589 0.8254  0.79164 0.64923 0.29358 0.78248 0.51249 0.\n",
      "  0.40679]\n",
      " [0.4998  0.63105 0.42138 0.44017 0.65231 0.68973 0.49644 0.62087 0.40679\n",
      "  0.     ]]\n"
     ]
    }
   ],
   "source": [
    "Z = np.random.random((10,2))\n",
    "# np.atleat_2d : 입력 배열을 2차원으로 받아들임\n",
    "X,Y = np.atleast_2d(Z[:,0],Z[:,1])\n",
    "D = np.sqrt( (X-X.T)**2 + (Y-Y.T)**2)\n",
    "print(D)"
   ]
  },
  {
   "cell_type": "code",
   "execution_count": 100,
   "id": "09a26324",
   "metadata": {},
   "outputs": [
    {
     "data": {
      "image/png": "[encoded data removed]",
      "text/plain": [
       "<Figure size 432x288 with 1 Axes>"
      ]
     },
     "metadata": {
      "needs_background": "light"
     },
     "output_type": "display_data"
    }
   ],
   "source": [
    "plt.scatter(X,Y)\n",
    "plt.grid()"
   ]
  },
  {
   "cell_type": "markdown",
   "id": "48413134",
   "metadata": {},
   "source": [
    "#### 53. How to convert a float (32 bits) array into an integer (32 bits) in place?\n",
    "- float(32 비트) 배열을 integer(32 비트)로 변환하는 방법은 무엇입니까?\n",
    "- astype(copy=False) 사용 (in place니까)"
   ]
  },
  {
   "cell_type": "code",
   "execution_count": 102,
   "id": "5db64b6d",
   "metadata": {},
   "outputs": [
    {
     "name": "stdout",
     "output_type": "stream",
     "text": [
      "[0. 1. 2. 3. 4. 5. 6. 7. 8. 9.]\n",
      "[0 1 2 3 4 5 6 7 8 9]\n"
     ]
    }
   ],
   "source": [
    "z = np.arange(10, dtype=np.float32)\n",
    "print(z)\n",
    "z = z.astype(np.int32, copy=False)\n",
    "print(z)"
   ]
  },
  {
   "cell_type": "markdown",
   "id": "0a532633",
   "metadata": {},
   "source": [
    "#### 54. How to read the following file? (★★☆)\n",
    "- 다음 파일을 어떻게 읽을 수 있습니까? (텍스트파일을 읽을 수 있는 방법)\n",
    "- np.genfromtxt()메서드 사용\n",
    "    - np.genfromtxt(파일이름,delimeter=(구분점),dtype=(데이터타입))\n",
    "    - 텍스트파일에서 데이터 로드하고 결측값을 지정값으로 바꿔줌(기본 -1)\n",
    "\n",
    "```\n",
    "1, 2, 3, 4, 5\n",
    "6,  ,  , 7, 8\n",
    " ,  , 9,10,11\n",
    "```"
   ]
  },
  {
   "cell_type": "code",
   "execution_count": 104,
   "id": "8af4f753",
   "metadata": {},
   "outputs": [
    {
     "name": "stdout",
     "output_type": "stream",
     "text": [
      "[[ 1  2  3  4  5]\n",
      " [ 6 -1 -1  7  8]\n",
      " [-1 -1  9 10 11]]\n"
     ]
    }
   ],
   "source": [
    "from io import StringIO\n",
    "\n",
    "# fake file\n",
    "s = StringIO(\"\"\"1, 2, 3, 4, 5\\n\n",
    "                6,  ,  , 7, 8\\n\n",
    "                 ,  , 9,10,11\\n\"\"\")\n",
    "\n",
    "Z = np.genfromtxt(s,delimiter=\",\",dtype=np.int)\n",
    "print(Z)"
   ]
  },
  {
   "cell_type": "markdown",
   "id": "f98713a6",
   "metadata": {},
   "source": [
    "#### 55. What is the equivalent of enumerate for numpy arrays? (★★☆)\n",
    "- Numpy Arrays에 대한 Enumerate와 같은 것은 무엇입니까?\n",
    "- 다차원 배열에서의 각 원소에 대한 인덱스 출력(enumerate)\n",
    "    - np.ndenumerate()\n",
    "    - np.ndindex(array.shape)"
   ]
  },
  {
   "cell_type": "code",
   "execution_count": 108,
   "id": "fbe9f549",
   "metadata": {
    "scrolled": true
   },
   "outputs": [
    {
     "name": "stdout",
     "output_type": "stream",
     "text": [
      "[[0 1 2]\n",
      " [3 4 5]\n",
      " [6 7 8]]\n",
      "(0, 0) 0\n",
      "(0, 1) 1\n",
      "(0, 2) 2\n",
      "(1, 0) 3\n",
      "(1, 1) 4\n",
      "(1, 2) 5\n",
      "(2, 0) 6\n",
      "(2, 1) 7\n",
      "(2, 2) 8\n"
     ]
    }
   ],
   "source": [
    "Z = np.arange(9).reshape(3,3)\n",
    "print(Z)\n",
    "for index, value in np.ndenumerate(Z):\n",
    "    print(index, value)"
   ]
  },
  {
   "cell_type": "code",
   "execution_count": 109,
   "id": "fd3caac5",
   "metadata": {},
   "outputs": [
    {
     "name": "stdout",
     "output_type": "stream",
     "text": [
      "[[0 1 2]\n",
      " [3 4 5]\n",
      " [6 7 8]]\n",
      "(0, 0) 0\n",
      "(0, 1) 1\n",
      "(0, 2) 2\n",
      "(1, 0) 3\n",
      "(1, 1) 4\n",
      "(1, 2) 5\n",
      "(2, 0) 6\n",
      "(2, 1) 7\n",
      "(2, 2) 8\n"
     ]
    }
   ],
   "source": [
    "print(Z)\n",
    "for index in np.ndindex(Z.shape):\n",
    "    print(index, Z[index])"
   ]
  },
  {
   "cell_type": "code",
   "execution_count": 105,
   "id": "64795f84",
   "metadata": {},
   "outputs": [
    {
     "name": "stdout",
     "output_type": "stream",
     "text": [
      "Z = np.arange(9).reshape(3,3)\n",
      "for index, value in np.ndenumerate(Z):\n",
      "    print(index, value)\n",
      "for index in np.ndindex(Z.shape):\n",
      "    print(index, Z[index])\n"
     ]
    }
   ],
   "source": [
    "answer(55)"
   ]
  },
  {
   "cell_type": "markdown",
   "id": "1abc7cc8",
   "metadata": {},
   "source": [
    "#### 56. Generate a generic 2D Gaussian-like array (★★☆)\n",
    "- 일반적인 가우시안 배열 생성\n",
    "- "
   ]
  },
  {
   "attachments": {
    "image.png": {
     "image/png": "[encoded data removed]"
    }
   },
   "cell_type": "markdown",
   "id": "0ef386a7",
   "metadata": {},
   "source": [
    "![image.png](attachment:image.png)\n",
    "\n",
    "출처 : https://angeloyeo.github.io/2020/09/14/normal_distribution_derivation.html"
   ]
  },
  {
   "cell_type": "code",
   "execution_count": 111,
   "id": "42e3a5bc",
   "metadata": {},
   "outputs": [
    {
     "name": "stdout",
     "output_type": "stream",
     "text": [
      "[[0.36788 0.44822 0.51979 0.57375 0.6028  0.6028  0.57375 0.51979 0.44822\n",
      "  0.36788]\n",
      " [0.44822 0.54611 0.63331 0.69906 0.73444 0.73444 0.69906 0.63331 0.54611\n",
      "  0.44822]\n",
      " [0.51979 0.63331 0.73444 0.81068 0.85172 0.85172 0.81068 0.73444 0.63331\n",
      "  0.51979]\n",
      " [0.57375 0.69906 0.81068 0.89484 0.94014 0.94014 0.89484 0.81068 0.69906\n",
      "  0.57375]\n",
      " [0.6028  0.73444 0.85172 0.94014 0.98773 0.98773 0.94014 0.85172 0.73444\n",
      "  0.6028 ]\n",
      " [0.6028  0.73444 0.85172 0.94014 0.98773 0.98773 0.94014 0.85172 0.73444\n",
      "  0.6028 ]\n",
      " [0.57375 0.69906 0.81068 0.89484 0.94014 0.94014 0.89484 0.81068 0.69906\n",
      "  0.57375]\n",
      " [0.51979 0.63331 0.73444 0.81068 0.85172 0.85172 0.81068 0.73444 0.63331\n",
      "  0.51979]\n",
      " [0.44822 0.54611 0.63331 0.69906 0.73444 0.73444 0.69906 0.63331 0.54611\n",
      "  0.44822]\n",
      " [0.36788 0.44822 0.51979 0.57375 0.6028  0.6028  0.57375 0.51979 0.44822\n",
      "  0.36788]]\n"
     ]
    }
   ],
   "source": [
    "X, Y = np.meshgrid(np.linspace(-1,1,10), np.linspace(-1,1,10))\n",
    "D = np.sqrt(X*X+Y*Y) # \n",
    "sigma, mu = 1.0, 0.0 # 가장 일반적인 정규분포\n",
    "G = np.exp(-( (D-mu)**2 / ( 2.0 * sigma**2 ) ) )\n",
    "print(G)"
   ]
  },
  {
   "cell_type": "markdown",
   "id": "0cf413ee",
   "metadata": {},
   "source": [
    "#### 57. How to randomly place p elements in a 2D array? (★★☆)\n",
    "- p개의 요소를 2D 배열에 무작위로 배치하는 방법은 무엇입니까?\n",
    "- np.put()을 통해 원소를 배치하고, np.random.choice()를 통해 범위 내 랜덤 인덱스를 생성한다."
   ]
  },
  {
   "cell_type": "code",
   "execution_count": 115,
   "id": "dfc57e06",
   "metadata": {},
   "outputs": [
    {
     "name": "stdout",
     "output_type": "stream",
     "text": [
      "[[0. 0. 0. 0. 0. 0. 0. 0. 0. 0.]\n",
      " [0. 0. 0. 0. 0. 0. 0. 0. 0. 0.]\n",
      " [0. 0. 0. 0. 0. 0. 0. 0. 0. 0.]\n",
      " [0. 0. 0. 0. 0. 0. 0. 0. 0. 0.]\n",
      " [0. 0. 0. 0. 0. 0. 0. 0. 0. 0.]\n",
      " [0. 0. 7. 0. 0. 0. 0. 0. 0. 0.]\n",
      " [0. 0. 0. 0. 0. 0. 0. 0. 0. 0.]\n",
      " [0. 0. 0. 0. 0. 0. 0. 0. 0. 0.]\n",
      " [0. 0. 0. 0. 0. 7. 0. 0. 0. 0.]\n",
      " [0. 0. 0. 0. 0. 0. 7. 0. 0. 0.]]\n"
     ]
    }
   ],
   "source": [
    "p=3 # 3개의 요소 배치\n",
    "z = np.zeros((10,10)) #10x10의 빈 배열 생성\n",
    "np.put(z, np.random.choice(range(10*10), p, replace=False), 7) #10x10 인덱스 안에서 p(3)만큼을 랜덤으로 선택하여 7을 삽입\n",
    "print(z)"
   ]
  },
  {
   "cell_type": "markdown",
   "id": "215b6acc",
   "metadata": {},
   "source": [
    "#### 58. Subtract the mean of each row of a matrix (★★☆)\n",
    "- 행렬의 각 행의 평균을 뺍니다.\n",
    "- .mean(axis와 keepdims 파라미터를 설정하여 실행)\n",
    "    - axis=1 : 행 선택\n",
    "    - keepdims : 차원 유지"
   ]
  },
  {
   "cell_type": "code",
   "execution_count": 121,
   "id": "dd1adef4",
   "metadata": {},
   "outputs": [
    {
     "name": "stdout",
     "output_type": "stream",
     "text": [
      "[[0.98297 0.71271 0.72411 0.13524 0.09461 0.40437 0.88661 0.09804 0.54232\n",
      "  0.75652]\n",
      " [0.32256 0.28038 0.35677 0.25894 0.99396 0.12734 0.97516 0.7857  0.75767\n",
      "  0.70912]\n",
      " [0.60073 0.26741 0.66347 0.68223 0.04645 0.74413 0.69911 0.1818  0.03398\n",
      "  0.75448]\n",
      " [0.45262 0.34239 0.45225 0.55087 0.49777 0.18672 0.70726 0.71965 0.75054\n",
      "  0.33596]\n",
      " [0.73445 0.56844 0.7033  0.94582 0.77205 0.99129 0.71552 0.99566 0.39958\n",
      "  0.1503 ]]\n",
      "[[ 0.44922  0.17896  0.19036 -0.39851 -0.43914 -0.12937  0.35286 -0.43571\n",
      "   0.00857  0.22277]\n",
      " [-0.2342  -0.27638 -0.19999 -0.29782  0.4372  -0.42942  0.4184   0.22894\n",
      "   0.20091  0.15236]\n",
      " [ 0.13335 -0.19997  0.19609  0.21485 -0.42093  0.27675  0.23173 -0.28558\n",
      "  -0.4334   0.2871 ]\n",
      " [-0.04698 -0.15721 -0.04735  0.05127 -0.00184 -0.31288  0.20766  0.22005\n",
      "   0.25094 -0.16365]\n",
      " [ 0.03681 -0.12921  0.00566  0.24818  0.07441  0.29365  0.01788  0.29802\n",
      "  -0.29806 -0.54734]]\n"
     ]
    }
   ],
   "source": [
    "x = np.random.rand(5, 10)\n",
    "print(x)\n",
    "y = x - x.mean(axis=1,keepdims=True)\n",
    "print(y)"
   ]
  },
  {
   "cell_type": "markdown",
   "id": "c0cf37e0",
   "metadata": {},
   "source": [
    "#### 59. How to sort an array by the nth column? (★★☆)\n",
    "- n번째 열로 배열을 정렬하는 방법은 무엇입니까?\n",
    "- .argsort() 이용\n",
    "    - z[z[:,1].argsort()] 는 행의 두번째(인덱스 1) 성분을 기준으로 정렬한다는 뜻"
   ]
  },
  {
   "cell_type": "code",
   "execution_count": 122,
   "id": "9336ca5f",
   "metadata": {},
   "outputs": [
    {
     "name": "stdout",
     "output_type": "stream",
     "text": [
      "[[5 2 4]\n",
      " [5 1 5]\n",
      " [8 9 2]]\n",
      "[[5 1 5]\n",
      " [5 2 4]\n",
      " [8 9 2]]\n"
     ]
    }
   ],
   "source": [
    "z = np.random.randint(0,10,(3,3))\n",
    "print(z)\n",
    "print(z[z[:,1].argsort()]) # 행의 두번째(index=1) 원소를 기준으로 정렬 (2, 1, 9 --> 1, 2, 9)"
   ]
  },
  {
   "cell_type": "markdown",
   "id": "c17fb213",
   "metadata": {},
   "source": [
    "#### 60. How to tell if a given 2D array has null columns? (★★☆)\n",
    "- 주어진 2D 배열에 null 열이 있는지 어떻게 알 수 있습니까?\n",
    "- .any() 사용하여 확인\n",
    "- int형에서 np.nan은 표현최소값으로 표현됨"
   ]
  },
  {
   "cell_type": "code",
   "execution_count": 130,
   "id": "7fdda78d",
   "metadata": {},
   "outputs": [
    {
     "name": "stdout",
     "output_type": "stream",
     "text": [
      "[[2 2 0 0 0 1 1 0 1 2]\n",
      " [0 1 2 2 0 0 1 0 0 1]\n",
      " [1 1 0 1 1 0 1 0 2 2]]\n",
      "[[          2           2           0           0           0           1\n",
      "            1           0           1           2]\n",
      " [-2147483648 -2147483648 -2147483648 -2147483648 -2147483648 -2147483648\n",
      "  -2147483648 -2147483648 -2147483648 -2147483648]\n",
      " [          1           1           0           1           1           0\n",
      "            1           0           2           2]]\n",
      "False\n"
     ]
    }
   ],
   "source": [
    "Z = np.random.randint(0,3,(3,10))\n",
    "print(Z)\n",
    "Z[1] = np.nan\n",
    "print(Z)\n",
    "print((~Z.any(axis=0)).any())"
   ]
  },
  {
   "cell_type": "markdown",
   "id": "8aaab886",
   "metadata": {},
   "source": [
    "#### 61. Find the nearest value from a given value in an array (★★☆)\n",
    "- 배열의 지정된 값에서 가장 가까운 값 찾기\n",
    "- .flat()으로 array를 vector형태로 펴준 뒤 벡터의 방법과 같이 최소값 구해줌"
   ]
  },
  {
   "cell_type": "code",
   "execution_count": 7,
   "id": "973f8079",
   "metadata": {},
   "outputs": [
    {
     "name": "stdout",
     "output_type": "stream",
     "text": [
      "[0.22690611 0.73244938 0.42902479 0.19474847 0.11260596 0.62687306\n",
      " 0.70982974 0.76366036 0.15354412 0.18160317]\n",
      "0.4290247857509055\n"
     ]
    }
   ],
   "source": [
    "Z = np.random.uniform(0,1,10)\n",
    "z = 0.5\n",
    "print(Z)\n",
    "m = Z.flat[np.abs(Z-z).argmin()]\n",
    "print(m)"
   ]
  },
  {
   "cell_type": "markdown",
   "id": "66a04e2e",
   "metadata": {},
   "source": [
    "#### 62. Considering two arrays with shape (1,3) and (3,1), how to compute their sum using an iterator? (★★☆)\n",
    "- 모양 (1,3)과 (3,1)의 두 배열을 고려할 때 iterator를 사용하여 합계를 계산하는 방법은 무엇입니까?\n",
    "- np.nditer 공식문서 : https://numpy.org/doc/stable/reference/generated/numpy.nditer.html\n",
    "- np.nditer는 요소 하나하나마다 접근하여 설정값에 따른 결과를 알려주는 함수"
   ]
  },
  {
   "cell_type": "code",
   "execution_count": 10,
   "id": "4b356632",
   "metadata": {},
   "outputs": [
    {
     "name": "stdout",
     "output_type": "stream",
     "text": [
      "[[0 1 2]] [[0]\n",
      " [1]\n",
      " [2]]\n",
      "[[0 1 2]\n",
      " [1 2 3]\n",
      " [2 3 4]]\n"
     ]
    }
   ],
   "source": [
    "A = np.arange(3).reshape(1,3)\n",
    "B = np.arange(3).reshape(3,1)\n",
    "print(A, B)\n",
    "it = np.nditer([A,B,None])\n",
    "for x,y,z in it: z[...] = x+y\n",
    "print(it.operands[2])"
   ]
  },
  {
   "cell_type": "markdown",
   "id": "f4427f7f",
   "metadata": {},
   "source": [
    "#### 63. Create an array class that has a name attribute (★★☆)\n",
    "- 이름 특성이 있는 배열 클래스 만들기"
   ]
  },
  {
   "cell_type": "code",
   "execution_count": 12,
   "id": "fe253212",
   "metadata": {},
   "outputs": [],
   "source": [
    "class NamedArray(np.ndarray):\n",
    "    def __new__(cls, array, name=\"no name\"):\n",
    "        obj = np.asarray(array).view(cls)\n",
    "        obj.name = name\n",
    "        return obj\n",
    "    def __array_finalize__(self, obj):\n",
    "        if obj is None: return\n",
    "        self.info = getattr(obj, 'name', \"no name\")"
   ]
  },
  {
   "cell_type": "code",
   "execution_count": 13,
   "id": "6937c702",
   "metadata": {},
   "outputs": [
    {
     "name": "stdout",
     "output_type": "stream",
     "text": [
      "range_10\n"
     ]
    }
   ],
   "source": [
    "Z = NamedArray(np.arange(10), \"range_10\")\n",
    "print (Z.name)"
   ]
  },
  {
   "cell_type": "markdown",
   "id": "58be9dd4",
   "metadata": {},
   "source": [
    "#### 64. Consider a given vector, how to add 1 to each element indexed by a second vector (be careful with repeated indices)? (★★★)\n",
    "- 주어진 벡터를 고려하라. 두 번째 벡터로 색인화된 각 요소에 1을 추가하는 방법을 고려하라.\n",
    "- 인덱스를 나타내는 벡터인 a가 있을 때 (ex. 6은 Z의 7번째 원소를 뜻함) 인덱스의 개수를 세어서 Z에 더해줌\n",
    "- np.add.at()을 통해 해결"
   ]
  },
  {
   "cell_type": "code",
   "execution_count": 14,
   "id": "5c8bae42",
   "metadata": {},
   "outputs": [
    {
     "name": "stdout",
     "output_type": "stream",
     "text": [
      "[1. 1. 1. 1. 1. 1. 1. 1. 1. 1.]\n",
      "[0 6 8 3 1 1 2 3 9 1 9 2 5 1 9 7 5 0 1 3]\n",
      "[0 6 8 3 1 1 2 3 9 1 9 2 5 1 9 7 5 0 1 3]\n",
      "[3. 6. 3. 4. 1. 3. 2. 2. 2. 4.]\n"
     ]
    }
   ],
   "source": [
    "Z = np.ones(10)\n",
    "a = np.random.randint(0,len(Z),20)\n",
    "print(Z)\n",
    "print(a)\n",
    "np.add.at(Z,a,1)\n",
    "print(a)\n",
    "print(Z)"
   ]
  },
  {
   "cell_type": "markdown",
   "id": "7348abd0",
   "metadata": {},
   "source": [
    "#### 65. How to accumulate elements of a vector (X) to an array (F) based on an index list (I)? (★★★)\n",
    "- 색인 목록(I)을 기반으로 벡터(X)의 요소를 배열(F)에 삽입하는 방법\n",
    "- X의 원소들을 I에 나와있는 인덱스에 각각 삽입하는 방법\n",
    "- np.bincount()를 이용"
   ]
  },
  {
   "cell_type": "code",
   "execution_count": 17,
   "id": "b3e33a5a",
   "metadata": {},
   "outputs": [
    {
     "name": "stdout",
     "output_type": "stream",
     "text": [
      "[0. 1. 0. 0. 2. 3. 4. 5. 6.]\n"
     ]
    }
   ],
   "source": [
    "X = [1,2,3,4,5,6]\n",
    "I = [1,4,5,6,7,8]\n",
    "F = np.bincount(I,X)\n",
    "print(F)"
   ]
  },
  {
   "cell_type": "markdown",
   "id": "538e651c",
   "metadata": {},
   "source": [
    "#### 66. Considering a (w,h,3) image of (dtype=ubyte), compute the number of unique colors (★★☆)\n",
    "- (dtype=ubyte)의 (w,h,3) 이미지를 고려하여 고유한 색상의 수를 계산한다.\n",
    "- 3차원 RGB 이미지의 고유 색상의 개수 계산"
   ]
  },
  {
   "cell_type": "code",
   "execution_count": 19,
   "id": "57f2f02f",
   "metadata": {},
   "outputs": [
    {
     "name": "stdout",
     "output_type": "stream",
     "text": [
      "[[65537   257 65792 65793     1 65536   257   257     0     1 65536     1\n",
      "  65793   256 65793 65792]\n",
      " [    1     0     1     1 65536 65537   257     0   257     0     0 65537\n",
      "  65792 65792     1     0]\n",
      " [    1 65536 65536 65792 65537 65792     0     1   256 65793 65792 65792\n",
      "    257   257     0   257]\n",
      " [65793 65792 65537     0   257     1 65536   257   257   257 65536 65792\n",
      "  65536     1   257 65536]\n",
      " [  257   256 65537 65537   257 65537 65793 65792 65536 65537     1 65792\n",
      "  65793   257 65792 65537]\n",
      " [    1   257   256     0   256   256 65537 65793 65792     1 65793 65537\n",
      "  65536   257 65536     1]\n",
      " [65536 65537   257 65793 65793 65793     0     1 65536 65537     1 65793\n",
      "  65792 65536 65537   257]\n",
      " [    1   257 65793 65793     0 65536     1   256 65792 65792 65793   257\n",
      "  65793 65793     0 65792]\n",
      " [65793     0 65793 65792     1   257 65793 65537     1 65536   256 65537\n",
      "  65536 65792     0 65792]\n",
      " [65792 65537   256 65793   256   257 65536   257   257 65793   256 65792\n",
      "  65793     1 65537     0]\n",
      " [65792 65537     0 65537 65792 65537   257     0     1   256   257 65537\n",
      "  65793   257 65536 65536]\n",
      " [65792   256 65536 65536     1   256   257 65536   257 65793     0 65537\n",
      "    256     0     0   257]\n",
      " [  257     1     1   257   256 65536     0   256     0     1 65536 65537\n",
      "  65536   256 65536   256]\n",
      " [    0 65537 65792     1     0 65793     0   257     0     0 65537 65792\n",
      "  65793 65537     0   257]\n",
      " [    1   256   256 65536   256     0     1 65793     0 65536     0 65537\n",
      "  65536 65793 65792   257]\n",
      " [  257 65536 65536     1   256 65792 65537     0 65792 65792 65792 65536\n",
      "      1   257 65792 65792]]\n",
      "8\n"
     ]
    }
   ],
   "source": [
    "img = np.random.randint(0,2,(16,16,3)).astype(np.ubyte)\n",
    "F = img[...,0]*(256*256) + img[...,1]*256 + img[...,2]\n",
    "print(F)\n",
    "print(len(np.unique(F)))"
   ]
  },
  {
   "cell_type": "markdown",
   "id": "33c986d9",
   "metadata": {},
   "source": [
    "#### 67. Considering a four dimensions array, how to get sum over the last two axis at once? (★★★)\n",
    "- 4차원 배열을 고려할 때, 마지막 두 축에 대한 합을 한 번에 얻는 방법은 무엇입니까?\n",
    "- (2,2,3,3)의 뒤에서 두번째까지의 축(3,3)에 대한 합들을 구하는 방법\n",
    "- row와 col이 고정된 채로 채널 방향으로 합산함"
   ]
  },
  {
   "cell_type": "code",
   "execution_count": 27,
   "id": "a99a50e2",
   "metadata": {},
   "outputs": [
    {
     "name": "stdout",
     "output_type": "stream",
     "text": [
      "[[[[0 4 3]\n",
      "   [8 7 6]\n",
      "   [0 7 3]]\n",
      "\n",
      "  [[6 6 8]\n",
      "   [9 3 7]\n",
      "   [6 4 0]]]\n",
      "\n",
      "\n",
      " [[[4 4 1]\n",
      "   [4 2 8]\n",
      "   [8 0 6]]\n",
      "\n",
      "  [[4 8 7]\n",
      "   [1 3 7]\n",
      "   [1 5 9]]]]\n"
     ]
    },
    {
     "data": {
      "text/plain": [
       "array([[38, 49],\n",
       "       [37, 45]])"
      ]
     },
     "execution_count": 27,
     "metadata": {},
     "output_type": "execute_result"
    }
   ],
   "source": [
    "z = np.random.randint(0, 10, (2,2,3,3))\n",
    "print(z)\n",
    "z.sum(axis=(-2,-1))"
   ]
  },
  {
   "cell_type": "markdown",
   "id": "00eb27c4",
   "metadata": {},
   "source": [
    "#### 68. Considering a one-dimensional vector D, how to compute means of subsets of D using a vector S of same size describing subset  indices? (★★★)\n",
    "- 1차원 벡터 D를 고려했을 때, 부분집합 지수를 기술하는 동일한 크기의 벡터 S를 사용하여 D의 부분집합의 평균을 계산하는 방법은 무엇인가?\n",
    "- D_sums : S 인덱스를 고려하여 더하돼 D를 가중치(실제 더하는 숫자)로 하여 더함\n",
    "- Pandas의 gropuby()를 이용하면 더 쉽게 해결가능"
   ]
  },
  {
   "cell_type": "code",
   "execution_count": 40,
   "id": "e0c4d3ac",
   "metadata": {},
   "outputs": [
    {
     "data": {
      "text/plain": [
       "array([3.26787395, 3.20313736, 5.73453595, 6.5774351 , 3.60056041,\n",
       "       6.18891079, 2.40678115, 6.4380369 , 6.03578166, 6.88186015])"
      ]
     },
     "execution_count": 40,
     "metadata": {},
     "output_type": "execute_result"
    }
   ],
   "source": [
    "D_sums"
   ]
  },
  {
   "cell_type": "code",
   "execution_count": 41,
   "id": "c1451d70",
   "metadata": {},
   "outputs": [
    {
     "data": {
      "text/plain": [
       "array([ 7,  6, 11, 12,  9, 14,  7, 12, 11, 11], dtype=int64)"
      ]
     },
     "execution_count": 41,
     "metadata": {},
     "output_type": "execute_result"
    }
   ],
   "source": [
    "D_counts"
   ]
  },
  {
   "cell_type": "code",
   "execution_count": 38,
   "id": "da403b39",
   "metadata": {},
   "outputs": [
    {
     "name": "stdout",
     "output_type": "stream",
     "text": [
      "[0.46683914 0.53385623 0.52132145 0.54811959 0.40006227 0.44206506\n",
      " 0.34382588 0.53650308 0.54870742 0.62562365]\n"
     ]
    }
   ],
   "source": [
    "D = np.random.uniform(0,1,100)\n",
    "S = np.random.randint(0,10,100)\n",
    "D_sums = np.bincount(S, weights=D)\n",
    "D_counts = np.bincount(S)\n",
    "D_means = D_sums / D_counts\n",
    "print(D_means)"
   ]
  },
  {
   "cell_type": "code",
   "execution_count": 39,
   "id": "e5f09ab9",
   "metadata": {},
   "outputs": [
    {
     "name": "stdout",
     "output_type": "stream",
     "text": [
      "0    0.466839\n",
      "1    0.533856\n",
      "2    0.521321\n",
      "3    0.548120\n",
      "4    0.400062\n",
      "5    0.442065\n",
      "6    0.343826\n",
      "7    0.536503\n",
      "8    0.548707\n",
      "9    0.625624\n",
      "dtype: float64\n"
     ]
    }
   ],
   "source": [
    "# pandas 이용방법\n",
    "\n",
    "import pandas as pd\n",
    "print(pd.Series(D).groupby(S).mean())"
   ]
  },
  {
   "cell_type": "markdown",
   "id": "928a1a15",
   "metadata": {},
   "source": [
    "#### 69. How to get the diagonal of a dot product? (★★★)\n",
    "- 곱 계산을 한 array의 대각선에 위치한 원소들만 뽑아내기\n",
    "- np.diag를 통해 배열의 대각행렬을 만들기\n",
    "- np.einsum()을 통해 해결하기 (설명 : https://ita9naiwa.github.io/numeric%20calculation/2018/11/10/Einsum.html)"
   ]
  },
  {
   "cell_type": "code",
   "execution_count": 49,
   "id": "ef2c9ddd",
   "metadata": {},
   "outputs": [
    {
     "name": "stdout",
     "output_type": "stream",
     "text": [
      "[[1.32076382 1.45993875 1.14379092 0.95426732 1.78433494]\n",
      " [1.54519023 1.60359615 1.59356053 1.41450901 2.2970631 ]\n",
      " [0.74821021 1.0644123  0.70781144 0.87293559 1.24068129]\n",
      " [1.54656724 2.0705222  1.68433296 1.36645552 2.38825871]\n",
      " [1.274722   0.66600021 1.01874923 0.55718571 0.91588162]]\n"
     ]
    },
    {
     "data": {
      "text/plain": [
       "array([1.32076382, 1.60359615, 0.70781144, 1.36645552, 0.91588162])"
      ]
     },
     "execution_count": 49,
     "metadata": {},
     "output_type": "execute_result"
    }
   ],
   "source": [
    "A = np.random.uniform(0,1,(5,5))\n",
    "B = np.random.uniform(0,1,(5,5))\n",
    "# print(A)\n",
    "# print(B)\n",
    "print(np.dot(A,B))\n",
    "\n",
    "# 느림 \n",
    "np.diag(np.dot(A,B))\n",
    "\n",
    "# 가장 빠른 버젼\n",
    "np.einsum('ij,ji->i',A,B) "
   ]
  },
  {
   "cell_type": "markdown",
   "id": "5143f7f3",
   "metadata": {},
   "source": [
    "#### 70. Consider the vector [1, 2, 3, 4, 5], how to build a new vector with 3 consecutive zeros interleaved between each value? (★★★)\n",
    "- 벡터 [1, 2, 3, 4, 5]를 고려하면 각 값 사이에 3 개의 연속 0이 삽입 된 새로운 벡터를 만드는 방법은 무엇입니까?\n",
    "- 벡터 사이의 0이 3개씩 들어간 것을 가정하여 zero배열을 만들어 놓은 뒤 1~5를 일정간격으로 삽입"
   ]
  },
  {
   "cell_type": "code",
   "execution_count": 50,
   "id": "1d99a1c1",
   "metadata": {},
   "outputs": [
    {
     "name": "stdout",
     "output_type": "stream",
     "text": [
      "[0. 0. 0. 0. 0. 0. 0. 0. 0. 0. 0. 0. 0. 0. 0. 0. 0.]\n",
      "[1. 0. 0. 0. 2. 0. 0. 0. 3. 0. 0. 0. 4. 0. 0. 0. 5.]\n"
     ]
    }
   ],
   "source": [
    "Z = np.array([1,2,3,4,5])\n",
    "nz = 3\n",
    "Z0 = np.zeros(len(Z) + (len(Z)-1)*(nz))\n",
    "print(Z0)\n",
    "# [::n] 처음부터 끝까지 n간격으로 \n",
    "Z0[::nz+1] = Z\n",
    "print(Z0)"
   ]
  },
  {
   "cell_type": "markdown",
   "id": "f62551d8",
   "metadata": {},
   "source": [
    "#### 71. Consider an array of dimension (5,5,3), how to mulitply it by an array with dimensions (5,5)? (★★★)\n",
    "- 차원 배열(5,5,3)을 고려한다면, 차원 배열(5,5)에 의해 어떻게 그것을 곱할 것인가?\n",
    "- 임시적으로 B의 shape을 3차원으로 바꿔서 그것을 곱함"
   ]
  },
  {
   "cell_type": "code",
   "execution_count": 6,
   "id": "56a69ddb",
   "metadata": {},
   "outputs": [
    {
     "name": "stdout",
     "output_type": "stream",
     "text": [
      "[[2. 2. 2. 2. 2.]\n",
      " [2. 2. 2. 2. 2.]\n",
      " [2. 2. 2. 2. 2.]\n",
      " [2. 2. 2. 2. 2.]\n",
      " [2. 2. 2. 2. 2.]]\n",
      "[[[2.]\n",
      "  [2.]\n",
      "  [2.]\n",
      "  [2.]\n",
      "  [2.]]\n",
      "\n",
      " [[2.]\n",
      "  [2.]\n",
      "  [2.]\n",
      "  [2.]\n",
      "  [2.]]\n",
      "\n",
      " [[2.]\n",
      "  [2.]\n",
      "  [2.]\n",
      "  [2.]\n",
      "  [2.]]\n",
      "\n",
      " [[2.]\n",
      "  [2.]\n",
      "  [2.]\n",
      "  [2.]\n",
      "  [2.]]\n",
      "\n",
      " [[2.]\n",
      "  [2.]\n",
      "  [2.]\n",
      "  [2.]\n",
      "  [2.]]]\n"
     ]
    }
   ],
   "source": [
    "print(B)\n",
    "print(B[:,:,None])"
   ]
  },
  {
   "cell_type": "code",
   "execution_count": 3,
   "id": "9ab241b7",
   "metadata": {},
   "outputs": [
    {
     "name": "stdout",
     "output_type": "stream",
     "text": [
      "[[[2. 2. 2.]\n",
      "  [2. 2. 2.]\n",
      "  [2. 2. 2.]\n",
      "  [2. 2. 2.]\n",
      "  [2. 2. 2.]]\n",
      "\n",
      " [[2. 2. 2.]\n",
      "  [2. 2. 2.]\n",
      "  [2. 2. 2.]\n",
      "  [2. 2. 2.]\n",
      "  [2. 2. 2.]]\n",
      "\n",
      " [[2. 2. 2.]\n",
      "  [2. 2. 2.]\n",
      "  [2. 2. 2.]\n",
      "  [2. 2. 2.]\n",
      "  [2. 2. 2.]]\n",
      "\n",
      " [[2. 2. 2.]\n",
      "  [2. 2. 2.]\n",
      "  [2. 2. 2.]\n",
      "  [2. 2. 2.]\n",
      "  [2. 2. 2.]]\n",
      "\n",
      " [[2. 2. 2.]\n",
      "  [2. 2. 2.]\n",
      "  [2. 2. 2.]\n",
      "  [2. 2. 2.]\n",
      "  [2. 2. 2.]]]\n"
     ]
    }
   ],
   "source": [
    "A = np.ones((5,5,3))\n",
    "B = 2*np.ones((5,5)) # (5,5) 1배열에 2를 곱해줌\n",
    "print(A*B[:,:,None])"
   ]
  },
  {
   "cell_type": "markdown",
   "id": "6896e326",
   "metadata": {},
   "source": [
    "#### 72. How to swap two rows of an array? (★★★)\n",
    "- 배열의 두 행을 바꾸는 방법\n",
    "- 행 인덱스를 이용해 행 교체"
   ]
  },
  {
   "cell_type": "code",
   "execution_count": 9,
   "id": "9e8fcba9",
   "metadata": {},
   "outputs": [
    {
     "name": "stdout",
     "output_type": "stream",
     "text": [
      "[[ 0  1  2  3  4]\n",
      " [ 5  6  7  8  9]\n",
      " [10 11 12 13 14]\n",
      " [15 16 17 18 19]\n",
      " [20 21 22 23 24]]\n",
      "[[ 5  6  7  8  9]\n",
      " [ 0  1  2  3  4]\n",
      " [10 11 12 13 14]\n",
      " [15 16 17 18 19]\n",
      " [20 21 22 23 24]]\n"
     ]
    }
   ],
   "source": [
    "A = np.arange(25).reshape(5,5)\n",
    "print(A)\n",
    "A[[0,1]] = A[[1,0]]\n",
    "print(A)"
   ]
  },
  {
   "cell_type": "markdown",
   "id": "aeaf4a7b",
   "metadata": {},
   "source": [
    "#### 73. Consider a set of 10 triplets describing 10 triangles (with shared vertices), find the set of unique line segments composing all the  triangles (★★★)\n",
    "- 10개의 삼각형을 설명하는 10개의 세쌍둥이 집합을 생각해보고, 모든 삼각형을 구성하는 고유 선분 집합을 찾는다.\n",
    "- 문제 뜻을 이해하지 못함...\n",
    "- np.roll : array를 굴리는 함수, shift 파라미터에 따라 인덱스를 설정하여 가장 앞 원소를 뒤로 보내거나 밀수 있음\n",
    "    - 공식 문서 : https://numpy.org/doc/stable/reference/generated/numpy.roll.html\n",
    "- repeat : 지정한숫자 (여기선 -1)가 나오기 전까지 무한 반복\n",
    "    - 관련문서 : https://rfriend.tistory.com/459"
   ]
  },
  {
   "cell_type": "code",
   "execution_count": 12,
   "id": "39ef4234",
   "metadata": {},
   "outputs": [
    {
     "name": "stdout",
     "output_type": "stream",
     "text": [
      "[( 0,  6) ( 0, 13) ( 6, 13) ( 7, 31) ( 7, 60) (14, 46) (14, 51) (19, 33)\n",
      " (19, 60) (20, 68) (20, 91) (22, 48) (22, 76) (29, 41) (29, 51) (31, 35)\n",
      " (31, 36) (31, 60) (33, 60) (35, 36) (39, 44) (39, 53) (41, 51) (44, 53)\n",
      " (46, 51) (48, 76) (50, 60) (50, 87) (60, 87) (68, 91)]\n"
     ]
    }
   ],
   "source": [
    "faces = np.random.randint(0,100,(10,3))\n",
    "F = np.roll(faces.repeat(2,axis=1),-1,axis=1)\n",
    "F = F.reshape(len(F)*3,2)\n",
    "F = np.sort(F,axis=1)\n",
    "G = F.view( dtype=[('p0',F.dtype),('p1',F.dtype)] )\n",
    "G = np.unique(G)\n",
    "print(G)"
   ]
  },
  {
   "cell_type": "markdown",
   "id": "3d11451b",
   "metadata": {},
   "source": [
    "#### 74. Given a sorted array C that corresponds to a bincount, how to produce an array A such that np.bincount(A) == C? (★★★)\n",
    "- bincount에 해당하는 정렬 된 배열 C가 주어지면 np.bincount (A) = = C와 같은 배열 A를 생성하는 방법은 무엇입니까?\n",
    "- np.repeat()메서드를 통해 A가 C랑 같아질때 까지 순차적으로 반복"
   ]
  },
  {
   "cell_type": "code",
   "execution_count": 14,
   "id": "b5b83e00",
   "metadata": {},
   "outputs": [
    {
     "data": {
      "text/plain": [
       "array([0, 1, 2, 3, 4, 5, 6])"
      ]
     },
     "execution_count": 14,
     "metadata": {},
     "output_type": "execute_result"
    }
   ],
   "source": [
    "np.arange(len(C))"
   ]
  },
  {
   "cell_type": "code",
   "execution_count": 13,
   "id": "a5563362",
   "metadata": {},
   "outputs": [
    {
     "name": "stdout",
     "output_type": "stream",
     "text": [
      "[1 1 2 3 4 4 6]\n"
     ]
    }
   ],
   "source": [
    "C = np.bincount([1,1,2,3,4,4,6])\n",
    "A = np.repeat(np.arange(len(C)), C)\n",
    "print(A)"
   ]
  },
  {
   "cell_type": "markdown",
   "id": "a0a45995",
   "metadata": {},
   "source": [
    "#### 75. How to compute averages using a sliding window over an array? (★★★)\n",
    "- 어레이에서 슬라이딩 윈도우를 사용하여 평균을 계산하는 방법은 무엇입니까?\n",
    "- np.cumsum : 주어진 축을 따라 요소의 누적 합계 반환\n",
    "    - https://numpy.org/doc/stable/reference/generated/numpy.cumsum.html"
   ]
  },
  {
   "cell_type": "code",
   "execution_count": 16,
   "id": "116243d5",
   "metadata": {},
   "outputs": [
    {
     "name": "stdout",
     "output_type": "stream",
     "text": [
      "[ 1.  2.  3.  4.  5.  6.  7.  8.  9. 10. 11. 12. 13. 14. 15. 16. 17. 18.]\n"
     ]
    }
   ],
   "source": [
    "def moving_average(a, n=3) :\n",
    "    ret = np.cumsum(a, dtype=float)\n",
    "    ret[n:] = ret[n:] - ret[:-n]\n",
    "    return ret[n - 1:] / n\n",
    "Z = np.arange(20)\n",
    "print(moving_average(Z, n=3))"
   ]
  },
  {
   "cell_type": "markdown",
   "id": "7808578f",
   "metadata": {},
   "source": [
    "#### 76. Consider a one-dimensional array Z, build a two-dimensional array whose first row is (Z[0],Z[1],Z[2]) and each subsequent row is  shifted by 1 (last row should be (Z[-3],Z[-2],Z[-1]) (★★★)\n",
    "- 1차원 배열 Z를 고려하여 첫 번째 행이 (Z[0],Z[1],Z[2]인 2차원 배열을 만들고 각 후속 행이 1씩 이동한다고 가정하십시오(마지막 행은 (Z[-3],Z[-2]),Z[-1]이어야 함)."
   ]
  },
  {
   "cell_type": "code",
   "execution_count": 19,
   "id": "6b23ba6e",
   "metadata": {},
   "outputs": [
    {
     "name": "stdout",
     "output_type": "stream",
     "text": [
      "[0 1 2 3 4 5 6 7 8 9]\n",
      "[[0 1 2]\n",
      " [1 2 3]\n",
      " [2 3 4]\n",
      " [3 4 5]\n",
      " [4 5 6]\n",
      " [5 6 7]\n",
      " [6 7 8]\n",
      " [7 8 9]]\n"
     ]
    }
   ],
   "source": [
    "from numpy.lib import stride_tricks\n",
    "\n",
    "def rolling(a, window):\n",
    "    shape = (a.size - window + 1, window)\n",
    "    strides = (a.strides[0], a.strides[0])\n",
    "    return stride_tricks.as_strided(a, shape=shape, strides=strides)\n",
    "print(np.arange(10))\n",
    "Z = rolling(np.arange(10), 3)\n",
    "print(Z)"
   ]
  },
  {
   "cell_type": "markdown",
   "id": "8e83df46",
   "metadata": {},
   "source": [
    "#### 77. How to negate a boolean, or to change the sign of a float inplace? (★★★)\n",
    "- 부울을 부정하는 방법 또는 플로트 내부(부등) 기호를 변경하는 방법?\n",
    "- 0과 1을 가진 array일때, logical_not()을 통해 반전시킬 수 있음\n",
    "- 부호를 가진 array일때, negative()를 통해 부호를 반전시킬 수 있음"
   ]
  },
  {
   "cell_type": "code",
   "execution_count": 24,
   "id": "20592af2",
   "metadata": {
    "scrolled": true
   },
   "outputs": [
    {
     "name": "stdout",
     "output_type": "stream",
     "text": [
      "[0 0 0 1 0 1 1 0 0 0 1 1 0 0 1 0 1 0 1 0 0 1 0 1 1 1 0 1 0 1 0 1 0 1 0 1 1\n",
      " 1 0 1 1 1 0 0 1 1 0 1 1 1 1 1 0 1 0 0 0 0 1 0 0 1 1 0 0 0 1 0 0 0 1 1 1 1\n",
      " 0 0 0 0 0 0 1 1 1 0 1 0 1 1 0 0 1 0 1 1 1 1 1 0 1 0]\n",
      "[1 1 1 0 1 0 0 1 1 1 0 0 1 1 0 1 0 1 0 1 1 0 1 0 0 0 1 0 1 0 1 0 1 0 1 0 0\n",
      " 0 1 0 0 0 1 1 0 0 1 0 0 0 0 0 1 0 1 1 1 1 0 1 1 0 0 1 1 1 0 1 1 1 0 0 0 0\n",
      " 1 1 1 1 1 1 0 0 0 1 0 1 0 0 1 1 0 1 0 0 0 0 0 1 0 1]\n"
     ]
    }
   ],
   "source": [
    "Z = np.random.randint(0,2,100)\n",
    "print(Z)\n",
    "print(np.logical_not(Z, out=Z))"
   ]
  },
  {
   "cell_type": "code",
   "execution_count": 27,
   "id": "4dbdbf98",
   "metadata": {},
   "outputs": [
    {
     "name": "stdout",
     "output_type": "stream",
     "text": [
      "[ 0.80605726 -0.69816069 -0.1418693  -0.19194465  0.02354716  0.37920456\n",
      "  0.21426436  0.63498652 -0.9326904  -0.01600721 -0.8734207   0.48281752\n",
      "  0.00138393 -0.9786371  -0.6471253  -0.1070193  -0.89682613 -0.40210602\n",
      "  0.22607657 -0.89140524  0.17531545  0.30002505  0.54486943 -0.48191416\n",
      " -0.66962649  0.39678452 -0.9176542  -0.2843332   0.32364294 -0.26163182]\n",
      "[-0.80605726  0.69816069  0.1418693   0.19194465 -0.02354716 -0.37920456\n",
      " -0.21426436 -0.63498652  0.9326904   0.01600721  0.8734207  -0.48281752\n",
      " -0.00138393  0.9786371   0.6471253   0.1070193   0.89682613  0.40210602\n",
      " -0.22607657  0.89140524 -0.17531545 -0.30002505 -0.54486943  0.48191416\n",
      "  0.66962649 -0.39678452  0.9176542   0.2843332  -0.32364294  0.26163182]\n"
     ]
    }
   ],
   "source": [
    "Z = np.random.uniform(-1.0, 1.0, 30)\n",
    "print(Z)\n",
    "print(np.negative(Z, out=Z))"
   ]
  },
  {
   "cell_type": "markdown",
   "id": "e67ff31c",
   "metadata": {},
   "source": [
    "#### 78. Consider 2 sets of points P0,P1 describing lines (2d) and a point p, how to compute distance from p to each line i (P0[i],P1[i])? (★★★)\n",
    "- 선(2d)과 점 p를 설명하는 점 P0,P1의 두 집합을 고려하며, p에서 각 선 i까지의 거리를 계산하는 방법(P0[i]),P1[i]?"
   ]
  },
  {
   "cell_type": "code",
   "execution_count": 29,
   "id": "89d75b76",
   "metadata": {},
   "outputs": [
    {
     "name": "stdout",
     "output_type": "stream",
     "text": [
      "[ 1.58107655 13.76901584  4.63900327 14.08876824 19.20680104  8.36019799\n",
      "  4.3356211   6.93239949  7.76393259  3.56538043]\n"
     ]
    }
   ],
   "source": [
    "def distance(P0, P1, p):\n",
    "    T = P1 - P0\n",
    "    L = (T**2).sum(axis=1)\n",
    "    U = -((P0[:,0]-p[...,0])*T[:,0] + (P0[:,1]-p[...,1])*T[:,1]) / L\n",
    "    U = U.reshape(len(U),1)\n",
    "    D = P0 + U*T - p\n",
    "    return np.sqrt((D**2).sum(axis=1))\n",
    "\n",
    "P0 = np.random.uniform(-10,10,(10,2))\n",
    "P1 = np.random.uniform(-10,10,(10,2))\n",
    "p  = np.random.uniform(-10,10,( 1,2))\n",
    "print(distance(P0, P1, p))"
   ]
  },
  {
   "cell_type": "markdown",
   "id": "ad8821b1",
   "metadata": {},
   "source": [
    "#### 79. Consider 2 sets of points P0,P1 describing lines (2d) and a set of points P, how to compute distance from each point j (P[j]) to each line i (P0[i],P1[i])? (★★★)\n",
    "- 각 점 j(P[j])에서 각 선 i(P0[i])까지의 거리를 계산하는 방법, 선 (2d)과 점 P 집합을 설명하는 점 P0,P1을 고려한다.P1[i]?\n",
    "- 이전 문제에서 정의한 함수 사용"
   ]
  },
  {
   "cell_type": "code",
   "execution_count": 31,
   "id": "775feca0",
   "metadata": {},
   "outputs": [
    {
     "name": "stdout",
     "output_type": "stream",
     "text": [
      "[[ 7.09996379  2.28628349  3.02667085  0.69680191 12.3405457   4.06039467\n",
      "   1.69448862  1.15986278  7.76941756  7.00244358]\n",
      " [ 2.94171083  0.26736355  5.38250641  3.18764396 11.64424454  0.11719234\n",
      "   5.01504534  2.55756628  3.32371878 11.00719431]\n",
      " [ 1.50853171  2.52011389  3.12011483  5.83670139  8.69723612  0.5191053\n",
      "   3.3715126   4.50923556  2.69978361 10.09159488]\n",
      " [11.92175056  2.04549699  3.49998832  0.0187256   9.80647589 11.46733622\n",
      "   5.5973582   4.64292861 14.04571887  0.47531408]\n",
      " [ 0.83917391  4.44605451  3.29479166  7.91593527  7.28675863  1.05926087\n",
      "   4.19848028  6.86001551  0.53115203 11.48979973]\n",
      " [ 9.9750869   4.9257392   3.22555117  2.08995924 14.43136693  5.71457733\n",
      "   1.05608949  4.12876992 10.30327618  5.59839973]\n",
      " [ 8.20698726  6.84628412  8.31190591  3.4098309  17.73190392  1.17985325\n",
      "   6.1721835   3.43884914  7.20614792 10.3515742 ]\n",
      " [ 6.18103504  5.96612087  9.61179526  2.28484644 17.5265817   0.9582315\n",
      "   7.92792991  1.6608396   4.99521156 12.41632178]\n",
      " [ 4.25330825  3.27542496  1.50386528  5.97996405  6.45459123  5.34913118\n",
      "   1.60340477  2.72468215  6.54101367  5.15630905]\n",
      " [10.31772615  6.92213565  5.72127372  3.86182483 16.85719736  4.24233171\n",
      "   3.22177502  5.02165964  9.87488891  7.27713738]]\n"
     ]
    }
   ],
   "source": [
    "P0 = np.random.uniform(-10, 10, (10,2))\n",
    "P1 = np.random.uniform(-10,10,(10,2))\n",
    "p = np.random.uniform(-10, 10, (10,2))\n",
    "print(np.array([distance(P0,P1,p_i) for p_i in p]))"
   ]
  },
  {
   "cell_type": "markdown",
   "id": "a0c8cbf5",
   "metadata": {},
   "source": [
    "#### 80. Consider an arbitrary array, write a function that extract a subpart with a fixed shape and centered on a given element (pad with a `fill` value when necessary) (★★★)\n",
    "- 임의의 배열을 고려하여, 고정된 모양과 특정 요소의 중심에 있는 하위 파트를 추출하는 함수를 작성합니다(필요할 때 'fill' 값을 가진 패드)."
   ]
  },
  {
   "cell_type": "code",
   "execution_count": 33,
   "id": "381fd926",
   "metadata": {},
   "outputs": [
    {
     "name": "stdout",
     "output_type": "stream",
     "text": [
      "[[6 2 7 8 1 0 4 3 1 0]\n",
      " [3 7 2 0 7 8 9 9 5 4]\n",
      " [9 1 5 0 1 8 8 0 2 8]\n",
      " [1 4 4 7 1 8 7 5 9 8]\n",
      " [0 2 1 8 1 5 9 4 9 7]\n",
      " [3 8 1 2 8 7 1 2 9 2]\n",
      " [4 9 8 6 1 6 9 2 9 4]\n",
      " [1 0 2 6 0 5 4 9 8 6]\n",
      " [2 4 4 3 9 4 8 9 4 5]\n",
      " [3 3 8 1 0 2 0 5 4 3]]\n",
      "[[0 0 0 0 0]\n",
      " [0 6 2 7 8]\n",
      " [0 3 7 2 0]\n",
      " [0 9 1 5 0]\n",
      " [0 1 4 4 7]]\n"
     ]
    },
    {
     "name": "stderr",
     "output_type": "stream",
     "text": [
      "C:\\Users\\Minhyeok\\AppData\\Local\\Temp/ipykernel_10948/1159162857.py:23: FutureWarning: Using a non-tuple sequence for multidimensional indexing is deprecated; use `arr[tuple(seq)]` instead of `arr[seq]`. In the future this will be interpreted as an array index, `arr[np.array(seq)]`, which will result either in an error or a different result.\n",
      "  R[r] = Z[z]\n"
     ]
    }
   ],
   "source": [
    "Z = np.random.randint(0,10,(10,10))\n",
    "shape = (5,5)\n",
    "fill  = 0\n",
    "position = (1,1)\n",
    "\n",
    "R = np.ones(shape, dtype=Z.dtype)*fill\n",
    "P  = np.array(list(position)).astype(int)\n",
    "Rs = np.array(list(R.shape)).astype(int)\n",
    "Zs = np.array(list(Z.shape)).astype(int)\n",
    "\n",
    "R_start = np.zeros((len(shape),)).astype(int)\n",
    "R_stop  = np.array(list(shape)).astype(int)\n",
    "Z_start = (P-Rs//2)\n",
    "Z_stop  = (P+Rs//2)+Rs%2\n",
    "\n",
    "R_start = (R_start - np.minimum(Z_start,0)).tolist()\n",
    "Z_start = (np.maximum(Z_start,0)).tolist()\n",
    "R_stop = np.maximum(R_start, (R_stop - np.maximum(Z_stop-Zs,0))).tolist()\n",
    "Z_stop = (np.minimum(Z_stop,Zs)).tolist()\n",
    "\n",
    "r = [slice(start,stop) for start,stop in zip(R_start,R_stop)]\n",
    "z = [slice(start,stop) for start,stop in zip(Z_start,Z_stop)]\n",
    "R[r] = Z[z]\n",
    "print(Z)\n",
    "print(R)"
   ]
  },
  {
   "cell_type": "markdown",
   "id": "7b87d87c-ec0a-4256-84c7-162829608687",
   "metadata": {
    "tags": []
   },
   "source": [
    "#### 81. Consider an array Z = [1,2,3,4,5,6,7,8,9,10,11,12,13,14], how to generate an array R = [[1,2,3,4], [2,3,4,5], [3,4,5,6], ..., [11,12,13,14]]? (★★★)\n",
    "- 어레이 Z = [1,2,3,4,5,6,7,8,9,10,11,12,13,14], 어레이 R = [[1,2,3,4], [2,3,4,5], [3,4,5,6], ..., [11,12,13,14]]를 생성하는 방법을 고려하십시오.\n",
    "- 1차원 벡터를 다차원 array로 reshape. 단, 원소 한칸씩 전진하며 쌓아가야 함\n",
    "- stride_tricks.as_strided : 주어진 모양 및 보폭으로 배열을 만듦\n",
    "    - 공식문서 : https://numpy.org/doc/stable/reference/generated/numpy.lib.stride_tricks.as_strided.html"
   ]
  },
  {
   "cell_type": "code",
   "execution_count": 9,
   "id": "b2857f25-c8df-4d6a-8741-7d65c8412ae3",
   "metadata": {},
   "outputs": [
    {
     "name": "stdout",
     "output_type": "stream",
     "text": [
      "[[ 1  2  3  4]\n",
      " [ 2  3  4  5]\n",
      " [ 3  4  5  6]\n",
      " [ 4  5  6  7]\n",
      " [ 5  6  7  8]\n",
      " [ 6  7  8  9]\n",
      " [ 7  8  9 10]\n",
      " [ 8  9 10 11]\n",
      " [ 9 10 11 12]\n",
      " [10 11 12 13]\n",
      " [11 12 13 14]]\n"
     ]
    }
   ],
   "source": [
    "from numpy.lib import stride_tricks\n",
    "\n",
    "Z = np.arange(1,15,dtype=np.uint32)\n",
    "R = stride_tricks.as_strided(Z,(11,4),(4,4)) # 최종 shape은 (11,4)가 되도록, 보폭은 (4,4)씩\n",
    "print(R)"
   ]
  },
  {
   "cell_type": "markdown",
   "id": "9c9bb0f3",
   "metadata": {},
   "source": [
    "#### 82. Compute a matrix rank (★★★)\n",
    "- 행렬 순위를 계산합니다\n",
    "- 문제가 잘 이해는 안되지만... 특이값 분해(Singular Value Decomposition, SVD)를 사용하여 행렬을 대각화한다.\n",
    "- 특이값분해 설명 블로그(다크 프로그래머 님) : https://darkpgmr.tistory.com/106"
   ]
  },
  {
   "cell_type": "code",
   "execution_count": 11,
   "id": "b75ef318",
   "metadata": {},
   "outputs": [
    {
     "name": "stdout",
     "output_type": "stream",
     "text": [
      "10\n"
     ]
    }
   ],
   "source": [
    "Z = np.random.uniform(0,1,(10,10))\n",
    "U, S, V = np.linalg.svd(Z) # Singular Value Decomposition\n",
    "rank = np.sum(S > 1e-10)\n",
    "print(rank)"
   ]
  },
  {
   "cell_type": "code",
   "execution_count": 12,
   "id": "c6d05f15-a088-464a-a7ca-0a2d8a2f7dd4",
   "metadata": {},
   "outputs": [
    {
     "name": "stdout",
     "output_type": "stream",
     "text": [
      "10\n"
     ]
    }
   ],
   "source": [
    "# 또 다른 방법\n",
    "rank = np.linalg.matrix_rank(Z)\n",
    "print(rank)"
   ]
  },
  {
   "cell_type": "markdown",
   "id": "7d8dc135",
   "metadata": {},
   "source": [
    "#### 83. How to find the most frequent value in an array?\n",
    "- 배열에서 가장 빈번한 값을 찾는 방법은 무엇입니까?\n",
    "- np.bincount()를 통해서 각 값을 count한 뒤, argmax()로 가장 큰 값을 찾아냄\n",
    "- argmax() : f(x)의 최대값을 만들어주는 입력 x 자체를 뜻함 (인덱스 반환)"
   ]
  },
  {
   "cell_type": "code",
   "execution_count": 52,
   "id": "3978a7a2",
   "metadata": {},
   "outputs": [
    {
     "name": "stdout",
     "output_type": "stream",
     "text": [
      "[6 9 3 4 4 3 6 6 3 6]\n",
      "1\n"
     ]
    }
   ],
   "source": [
    "Z = np.random.randint(0,10,50)\n",
    "print(np.bincount(Z))\n",
    "print(np.bincount(Z).argmax())"
   ]
  },
  {
   "cell_type": "markdown",
   "id": "aa340126",
   "metadata": {
    "tags": []
   },
   "source": [
    "#### 84. Extract all the contiguous 3x3 blocks from a random 10x10 matrix (★★★)\n",
    "- 랜덤 10x10 행렬에서 모든 연속 3x3 블럭 추출"
   ]
  },
  {
   "cell_type": "code",
   "execution_count": 19,
   "id": "bf138783",
   "metadata": {
    "scrolled": true,
    "tags": []
   },
   "outputs": [
    {
     "name": "stdout",
     "output_type": "stream",
     "text": [
      "[[[[1 1 1]\n",
      "   [4 2 0]\n",
      "   [4 4 4]]\n",
      "\n",
      "  [[1 1 3]\n",
      "   [2 0 2]\n",
      "   [4 4 3]]\n",
      "\n",
      "  [[1 3 2]\n",
      "   [0 2 0]\n",
      "   [4 3 3]]\n",
      "\n",
      "  [[3 2 0]\n",
      "   [2 0 2]\n",
      "   [3 3 2]]\n",
      "\n",
      "  [[2 0 1]\n",
      "   [0 2 2]\n",
      "   [3 2 2]]\n",
      "\n",
      "  [[0 1 3]\n",
      "   [2 2 2]\n",
      "   [2 2 3]]\n",
      "\n",
      "  [[1 3 2]\n",
      "   [2 2 1]\n",
      "   [2 3 3]]\n",
      "\n",
      "  [[3 2 0]\n",
      "   [2 1 0]\n",
      "   [3 3 0]]]\n",
      "\n",
      "\n",
      " [[[4 2 0]\n",
      "   [4 4 4]\n",
      "   [1 0 4]]\n",
      "\n",
      "  [[2 0 2]\n",
      "   [4 4 3]\n",
      "   [0 4 0]]\n",
      "\n",
      "  [[0 2 0]\n",
      "   [4 3 3]\n",
      "   [4 0 3]]\n",
      "\n",
      "  [[2 0 2]\n",
      "   [3 3 2]\n",
      "   [0 3 2]]\n",
      "\n",
      "  [[0 2 2]\n",
      "   [3 2 2]\n",
      "   [3 2 3]]\n",
      "\n",
      "  [[2 2 2]\n",
      "   [2 2 3]\n",
      "   [2 3 4]]\n",
      "\n",
      "  [[2 2 1]\n",
      "   [2 3 3]\n",
      "   [3 4 1]]\n",
      "\n",
      "  [[2 1 0]\n",
      "   [3 3 0]\n",
      "   [4 1 0]]]\n",
      "\n",
      "\n",
      " [[[4 4 4]\n",
      "   [1 0 4]\n",
      "   [2 1 3]]\n",
      "\n",
      "  [[4 4 3]\n",
      "   [0 4 0]\n",
      "   [1 3 2]]\n",
      "\n",
      "  [[4 3 3]\n",
      "   [4 0 3]\n",
      "   [3 2 4]]\n",
      "\n",
      "  [[3 3 2]\n",
      "   [0 3 2]\n",
      "   [2 4 4]]\n",
      "\n",
      "  [[3 2 2]\n",
      "   [3 2 3]\n",
      "   [4 4 0]]\n",
      "\n",
      "  [[2 2 3]\n",
      "   [2 3 4]\n",
      "   [4 0 1]]\n",
      "\n",
      "  [[2 3 3]\n",
      "   [3 4 1]\n",
      "   [0 1 1]]\n",
      "\n",
      "  [[3 3 0]\n",
      "   [4 1 0]\n",
      "   [1 1 3]]]\n",
      "\n",
      "\n",
      " [[[1 0 4]\n",
      "   [2 1 3]\n",
      "   [0 2 2]]\n",
      "\n",
      "  [[0 4 0]\n",
      "   [1 3 2]\n",
      "   [2 2 3]]\n",
      "\n",
      "  [[4 0 3]\n",
      "   [3 2 4]\n",
      "   [2 3 2]]\n",
      "\n",
      "  [[0 3 2]\n",
      "   [2 4 4]\n",
      "   [3 2 1]]\n",
      "\n",
      "  [[3 2 3]\n",
      "   [4 4 0]\n",
      "   [2 1 2]]\n",
      "\n",
      "  [[2 3 4]\n",
      "   [4 0 1]\n",
      "   [1 2 4]]\n",
      "\n",
      "  [[3 4 1]\n",
      "   [0 1 1]\n",
      "   [2 4 4]]\n",
      "\n",
      "  [[4 1 0]\n",
      "   [1 1 3]\n",
      "   [4 4 0]]]\n",
      "\n",
      "\n",
      " [[[2 1 3]\n",
      "   [0 2 2]\n",
      "   [0 0 1]]\n",
      "\n",
      "  [[1 3 2]\n",
      "   [2 2 3]\n",
      "   [0 1 1]]\n",
      "\n",
      "  [[3 2 4]\n",
      "   [2 3 2]\n",
      "   [1 1 2]]\n",
      "\n",
      "  [[2 4 4]\n",
      "   [3 2 1]\n",
      "   [1 2 3]]\n",
      "\n",
      "  [[4 4 0]\n",
      "   [2 1 2]\n",
      "   [2 3 4]]\n",
      "\n",
      "  [[4 0 1]\n",
      "   [1 2 4]\n",
      "   [3 4 1]]\n",
      "\n",
      "  [[0 1 1]\n",
      "   [2 4 4]\n",
      "   [4 1 4]]\n",
      "\n",
      "  [[1 1 3]\n",
      "   [4 4 0]\n",
      "   [1 4 0]]]\n",
      "\n",
      "\n",
      " [[[0 2 2]\n",
      "   [0 0 1]\n",
      "   [4 1 1]]\n",
      "\n",
      "  [[2 2 3]\n",
      "   [0 1 1]\n",
      "   [1 1 3]]\n",
      "\n",
      "  [[2 3 2]\n",
      "   [1 1 2]\n",
      "   [1 3 1]]\n",
      "\n",
      "  [[3 2 1]\n",
      "   [1 2 3]\n",
      "   [3 1 3]]\n",
      "\n",
      "  [[2 1 2]\n",
      "   [2 3 4]\n",
      "   [1 3 2]]\n",
      "\n",
      "  [[1 2 4]\n",
      "   [3 4 1]\n",
      "   [3 2 4]]\n",
      "\n",
      "  [[2 4 4]\n",
      "   [4 1 4]\n",
      "   [2 4 4]]\n",
      "\n",
      "  [[4 4 0]\n",
      "   [1 4 0]\n",
      "   [4 4 2]]]\n",
      "\n",
      "\n",
      " [[[0 0 1]\n",
      "   [4 1 1]\n",
      "   [0 1 4]]\n",
      "\n",
      "  [[0 1 1]\n",
      "   [1 1 3]\n",
      "   [1 4 3]]\n",
      "\n",
      "  [[1 1 2]\n",
      "   [1 3 1]\n",
      "   [4 3 1]]\n",
      "\n",
      "  [[1 2 3]\n",
      "   [3 1 3]\n",
      "   [3 1 4]]\n",
      "\n",
      "  [[2 3 4]\n",
      "   [1 3 2]\n",
      "   [1 4 3]]\n",
      "\n",
      "  [[3 4 1]\n",
      "   [3 2 4]\n",
      "   [4 3 4]]\n",
      "\n",
      "  [[4 1 4]\n",
      "   [2 4 4]\n",
      "   [3 4 4]]\n",
      "\n",
      "  [[1 4 0]\n",
      "   [4 4 2]\n",
      "   [4 4 4]]]\n",
      "\n",
      "\n",
      " [[[4 1 1]\n",
      "   [0 1 4]\n",
      "   [1 0 3]]\n",
      "\n",
      "  [[1 1 3]\n",
      "   [1 4 3]\n",
      "   [0 3 0]]\n",
      "\n",
      "  [[1 3 1]\n",
      "   [4 3 1]\n",
      "   [3 0 4]]\n",
      "\n",
      "  [[3 1 3]\n",
      "   [3 1 4]\n",
      "   [0 4 3]]\n",
      "\n",
      "  [[1 3 2]\n",
      "   [1 4 3]\n",
      "   [4 3 1]]\n",
      "\n",
      "  [[3 2 4]\n",
      "   [4 3 4]\n",
      "   [3 1 3]]\n",
      "\n",
      "  [[2 4 4]\n",
      "   [3 4 4]\n",
      "   [1 3 2]]\n",
      "\n",
      "  [[4 4 2]\n",
      "   [4 4 4]\n",
      "   [3 2 4]]]]\n"
     ]
    }
   ],
   "source": [
    "Z = np.random.randint(0,5,(10,10))\n",
    "n = 3\n",
    "i = 1 + (Z.shape[0]-3)\n",
    "j = 1 + (Z.shape[1]-3)\n",
    "C = stride_tricks.as_strided(Z, shape=(i, j, n, n), strides=Z.strides + Z.strides)\n",
    "print(C)"
   ]
  },
  {
   "cell_type": "markdown",
   "id": "6b6d2c84",
   "metadata": {},
   "source": [
    "#### 85. Create a 2D array subclass such that Z[i,j] == Z[j,i] (★★★)\n",
    "- Z[i,j] == Z[j,i]와 같은 2D 배열 하위 클래스 만들기"
   ]
  },
  {
   "cell_type": "code",
   "execution_count": 22,
   "id": "155e16ce",
   "metadata": {},
   "outputs": [
    {
     "name": "stdout",
     "output_type": "stream",
     "text": [
      "[[ 1  9 14 12  0]\n",
      " [ 9  9 10 11  5]\n",
      " [14 10  1 42  6]\n",
      " [12 11 42  3  6]\n",
      " [ 0  5  6  6  7]]\n"
     ]
    }
   ],
   "source": [
    "class Symetric(np.ndarray):\n",
    "    def __setitem__(self, index, value):\n",
    "        i,j = index\n",
    "        super(Symetric, self).__setitem__((i,j), value)\n",
    "        super(Symetric, self).__setitem__((j,i), value)\n",
    "        \n",
    "def symetric(Z):\n",
    "    return np.asarray(Z + Z.T - np.diag(Z.diagonal())).view(Symetric)\n",
    "\n",
    "S = symetric(np.random.randint(0, 10, (5,5)))\n",
    "S[2,3] = 42\n",
    "print(S)"
   ]
  },
  {
   "cell_type": "markdown",
   "id": "7be0fe36",
   "metadata": {},
   "source": [
    "#### 86. Consider a set of p matrices wich shape (n,n) and a set of p vectors with shape (n,1). How to compute the sum of of the p matrix products at once? (result has shape (n,1)) (★★★)\n",
    "- 형상(n,n)이 있는 p 행렬 집합과 형상(n,1)이 있는 p 벡터 집합을 고려하십시오. p 매트릭스 제품의 합계를 한 번에 계산하는 방법은 무엇입니까? (결과에 모양(n,1)이 있음)\n",
    "- np.tensordot() 공식문서 : https://numpy.org/doc/stable/reference/generated/numpy.tensordot.html"
   ]
  },
  {
   "cell_type": "code",
   "execution_count": 24,
   "id": "ea732c23",
   "metadata": {},
   "outputs": [
    {
     "name": "stdout",
     "output_type": "stream",
     "text": [
      "[[200.]\n",
      " [200.]\n",
      " [200.]\n",
      " [200.]\n",
      " [200.]\n",
      " [200.]\n",
      " [200.]\n",
      " [200.]\n",
      " [200.]\n",
      " [200.]\n",
      " [200.]\n",
      " [200.]\n",
      " [200.]\n",
      " [200.]\n",
      " [200.]\n",
      " [200.]\n",
      " [200.]\n",
      " [200.]\n",
      " [200.]\n",
      " [200.]]\n"
     ]
    }
   ],
   "source": [
    "p, n = 10, 20\n",
    "M = np.ones((p,n,n))\n",
    "V = np.ones((p,n,1))\n",
    "S = np.tensordot(M, V, axes=[[0, 2], [0, 1]]) # np.tensordot(a, b, 축) : 지정된 축에 따라 텐서 곱을 계산\n",
    "print(S)\n",
    "\n",
    "# It works, because:\n",
    "# M is (p,n,n)\n",
    "# V is (p,n,1)\n",
    "# Thus, summing over the paired axes 0 and 0 (of M and V independently),\n",
    "# and 2 and 1, to remain with a (n,1) vector."
   ]
  },
  {
   "cell_type": "markdown",
   "id": "a840a88f",
   "metadata": {},
   "source": [
    "#### 87. Consider a 16x16 array, how to get the block-sum (block size is 4x4)? (★★★)\n",
    "- 16x16 array가 주어질 때, 4x4의 블록합계로 결과값을 가져오는 방법\n",
    "    - 1. np.add.reduceat() : 주어진 배열의 인덱스를 고려하여 해당인덱스부터 끝까지의 합계를 구해 배열로 반환\n",
    "    - 2. stride_tricks.sliding_window_view()를 이용해 합계"
   ]
  },
  {
   "cell_type": "code",
   "execution_count": 29,
   "id": "6e0c1cbe",
   "metadata": {},
   "outputs": [
    {
     "name": "stdout",
     "output_type": "stream",
     "text": [
      "[[1. 1. 1. 1. 1. 1. 1. 1. 1. 1. 1. 1. 1. 1. 1. 1.]\n",
      " [1. 1. 1. 1. 1. 1. 1. 1. 1. 1. 1. 1. 1. 1. 1. 1.]\n",
      " [1. 1. 1. 1. 1. 1. 1. 1. 1. 1. 1. 1. 1. 1. 1. 1.]\n",
      " [1. 1. 1. 1. 1. 1. 1. 1. 1. 1. 1. 1. 1. 1. 1. 1.]\n",
      " [1. 1. 1. 1. 1. 1. 1. 1. 1. 1. 1. 1. 1. 1. 1. 1.]\n",
      " [1. 1. 1. 1. 1. 1. 1. 1. 1. 1. 1. 1. 1. 1. 1. 1.]\n",
      " [1. 1. 1. 1. 1. 1. 1. 1. 1. 1. 1. 1. 1. 1. 1. 1.]\n",
      " [1. 1. 1. 1. 1. 1. 1. 1. 1. 1. 1. 1. 1. 1. 1. 1.]\n",
      " [1. 1. 1. 1. 1. 1. 1. 1. 1. 1. 1. 1. 1. 1. 1. 1.]\n",
      " [1. 1. 1. 1. 1. 1. 1. 1. 1. 1. 1. 1. 1. 1. 1. 1.]\n",
      " [1. 1. 1. 1. 1. 1. 1. 1. 1. 1. 1. 1. 1. 1. 1. 1.]\n",
      " [1. 1. 1. 1. 1. 1. 1. 1. 1. 1. 1. 1. 1. 1. 1. 1.]\n",
      " [1. 1. 1. 1. 1. 1. 1. 1. 1. 1. 1. 1. 1. 1. 1. 1.]\n",
      " [1. 1. 1. 1. 1. 1. 1. 1. 1. 1. 1. 1. 1. 1. 1. 1.]\n",
      " [1. 1. 1. 1. 1. 1. 1. 1. 1. 1. 1. 1. 1. 1. 1. 1.]\n",
      " [1. 1. 1. 1. 1. 1. 1. 1. 1. 1. 1. 1. 1. 1. 1. 1.]]\n",
      "[[16. 16. 16. 16.]\n",
      " [16. 16. 16. 16.]\n",
      " [16. 16. 16. 16.]\n",
      " [16. 16. 16. 16.]]\n"
     ]
    }
   ],
   "source": [
    "Z = np.ones((16,16))\n",
    "print(Z)\n",
    "k = 4\n",
    "S = np.add.reduceat(np.add.reduceat(Z, np.arange(0, Z.shape[0], k), axis=0),\n",
    "                                       np.arange(0, Z.shape[1], k), axis=1)\n",
    "print(S)"
   ]
  },
  {
   "cell_type": "code",
   "execution_count": 28,
   "id": "7989058d-12f5-4644-b18d-9173d74ec00a",
   "metadata": {},
   "outputs": [
    {
     "name": "stdout",
     "output_type": "stream",
     "text": [
      "[[16. 16. 16. 16.]\n",
      " [16. 16. 16. 16.]\n",
      " [16. 16. 16. 16.]\n",
      " [16. 16. 16. 16.]]\n"
     ]
    }
   ],
   "source": [
    "Z = np.ones((16,16))\n",
    "k = 4\n",
    "\n",
    "windows = np.lib.stride_tricks.sliding_window_view(Z, (k, k))\n",
    "S = windows[::k, ::k, ...].sum(axis=(-2, -1))\n",
    "print(S)"
   ]
  },
  {
   "cell_type": "markdown",
   "id": "c2bd7385",
   "metadata": {},
   "source": [
    "#### 88. How to implement the Game of Life using numpy arrays? (★★★)\n",
    "- numpy 배열을 사용하여 Game of Life를 구현하는 방법은 무엇입니까?\n",
    "- Game of Life (라이프게임) 위키피디아(한글) : https://ko.wikipedia.org/wiki/%EB%9D%BC%EC%9D%B4%ED%94%84_%EA%B2%8C%EC%9E%84"
   ]
  },
  {
   "cell_type": "code",
   "execution_count": 46,
   "id": "aea7d805",
   "metadata": {},
   "outputs": [
    {
     "name": "stdout",
     "output_type": "stream",
     "text": [
      "[[0 0 0 ... 0 0 0]\n",
      " [0 0 0 ... 0 0 0]\n",
      " [0 0 0 ... 0 0 0]\n",
      " ...\n",
      " [0 0 0 ... 0 0 0]\n",
      " [0 0 0 ... 0 0 0]\n",
      " [0 0 0 ... 0 0 0]]\n"
     ]
    }
   ],
   "source": [
    "def iterate(Z):\n",
    "    # Count neighbours\n",
    "    N = (Z[0:-2,0:-2] + Z[0:-2,1:-1] + Z[0:-2,2:] +\n",
    "         Z[1:-1,0:-2]                + Z[1:-1,2:] +\n",
    "         Z[2:  ,0:-2] + Z[2:  ,1:-1] + Z[2:  ,2:])\n",
    "\n",
    "    # Apply rules\n",
    "    birth = (N==3) & (Z[1:-1,1:-1]==0)\n",
    "    survive = ((N==2) | (N==3)) & (Z[1:-1,1:-1]==1)\n",
    "    Z[...] = 0\n",
    "    Z[1:-1,1:-1][birth | survive] = 1\n",
    "    return Z\n",
    "\n",
    "Z = np.random.randint(0,2,(50,50))\n",
    "for i in range(100): Z = iterate(Z)\n",
    "print(Z)"
   ]
  },
  {
   "cell_type": "markdown",
   "id": "4c70397b",
   "metadata": {},
   "source": [
    "#### 89. How to get the n largest values of an array (★★★)\n",
    "- 배열의 최대값 n개를 가져오는 방법\n",
    "    - argsort()으로 오름차순 정렬 뒤 뒤에서 n개 가져오기 (arg가 붙으면 인덱스를 반환한다.)\n",
    "    - argpartition()로 배열 내 가장 작은값 (-Z로 파라미터를 주었기 때문에) n개를 찾고 인덱스 반환"
   ]
  },
  {
   "cell_type": "code",
   "execution_count": 49,
   "id": "16371718",
   "metadata": {},
   "outputs": [
    {
     "name": "stdout",
     "output_type": "stream",
     "text": [
      "[8178 4152 4340 ...  229 3725 3684]\n",
      "[9995 9996 9997 9998 9999]\n",
      "[9998 9999 9996 9997 9995]\n"
     ]
    }
   ],
   "source": [
    "Z = np.arange(10000)\n",
    "np.random.shuffle(Z) # 원소 순서를 랜덤으로 섞음\n",
    "n = 5\n",
    "\n",
    "# Slow\n",
    "print (Z[np.argsort(Z)[-n:]])\n",
    "\n",
    "# Fast\n",
    "print (Z[np.argpartition(-Z,n)[:n]])"
   ]
  },
  {
   "cell_type": "markdown",
   "id": "15ba193c",
   "metadata": {},
   "source": [
    "#### 90. Given an arbitrary number of vectors, build the cartesian product (every combinations of every item) (★★★)\n",
    "- 임의의 수의 벡터가 주어지면 데카르트 곱(모든 항목의 모든 조합)을 작성합니다.\n",
    "- 데카르트 곱(곱집합) : https://ko.wikipedia.org/wiki/%EA%B3%B1%EC%A7%91%ED%95%A9"
   ]
  },
  {
   "cell_type": "code",
   "execution_count": 51,
   "id": "c9c468d4",
   "metadata": {},
   "outputs": [
    {
     "name": "stdout",
     "output_type": "stream",
     "text": [
      "[[1 4 6]\n",
      " [1 4 7]\n",
      " [1 5 6]\n",
      " [1 5 7]\n",
      " [2 4 6]\n",
      " [2 4 7]\n",
      " [2 5 6]\n",
      " [2 5 7]\n",
      " [3 4 6]\n",
      " [3 4 7]\n",
      " [3 5 6]\n",
      " [3 5 7]]\n"
     ]
    }
   ],
   "source": [
    "def cartesian(arrays):\n",
    "    arrays = [np.asarray(a) for a in arrays]\n",
    "    shape = (len(x) for x in arrays)\n",
    "\n",
    "    ix = np.indices(shape, dtype=int)\n",
    "    ix = ix.reshape(len(arrays), -1).T\n",
    "\n",
    "    for n, arr in enumerate(arrays):\n",
    "        ix[:, n] = arrays[n][ix[:, n]]\n",
    "\n",
    "    return ix\n",
    "\n",
    "print (cartesian(([1, 2, 3], [4, 5], [6, 7])))"
   ]
  },
  {
   "cell_type": "markdown",
   "id": "ec828405",
   "metadata": {},
   "source": [
    "#### 91. How to create a record array from a regular array? (★★★)\n",
    "- 정규 배열에서 레코드 배열을 만드는 방법\n",
    "- 레코드 배열(record array)은 인덱스 대신 속성별로 구조화된 배열필드에 엑세스할 수 있음\n",
    "- 관련 문서 : https://numpy.org/doc/stable/user/basics.rec.html"
   ]
  },
  {
   "cell_type": "code",
   "execution_count": 3,
   "id": "84eb5fba",
   "metadata": {},
   "outputs": [
    {
     "name": "stdout",
     "output_type": "stream",
     "text": [
      "[(b'Hello', 2.5, 3) (b'World', 3.6, 2)]\n"
     ]
    }
   ],
   "source": [
    "Z = np.array([(\"Hello\", 2.5, 3),\n",
    "              (\"World\", 3.6, 2)])\n",
    "R = np.core.records.fromarrays(Z.T,\n",
    "                               names='col1, col2, col3',\n",
    "                               formats = 'S8, f8, i8')\n",
    "print(R)"
   ]
  },
  {
   "cell_type": "markdown",
   "id": "d94352b6",
   "metadata": {},
   "source": [
    "#### 92. Consider a large vector Z, compute Z to the power of 3 using 3 different methods (★★★)\n",
    "- 큰 벡터 Z를 생각해 보자, 3개의 다른 방법을 사용하여 Z를 3의 거듭제곱으로 계산한다.\n",
    "- 벡터의 3 거듭제곱으로 계산하는 방법 3가지\n",
    "    - np.power() 메소드\n",
    "    - 단순히 벡터를 3번 곱함\n",
    "    - np.einsum() 메소드 : https://ita9naiwa.github.io/numeric%20calculation/2018/11/10/Einsum.html (ita9naiwa 님)"
   ]
  },
  {
   "cell_type": "code",
   "execution_count": 5,
   "id": "301ba8a8",
   "metadata": {},
   "outputs": [
    {
     "name": "stdout",
     "output_type": "stream",
     "text": [
      "1.44 s ± 6.19 ms per loop (mean ± std. dev. of 7 runs, 1 loop each)\n",
      "215 ms ± 2.9 ms per loop (mean ± std. dev. of 7 runs, 1 loop each)\n",
      "130 ms ± 1.02 ms per loop (mean ± std. dev. of 7 runs, 10 loops each)\n"
     ]
    }
   ],
   "source": [
    "x = np.random.rand(int(5e7))\n",
    "\n",
    "%timeit np.power(x,3)\n",
    "%timeit x*x*x\n",
    "%timeit np.einsum('i,i,i->i',x,x,x) # x를 3번 곱한 것을 원소로 지정"
   ]
  },
  {
   "cell_type": "code",
   "execution_count": 11,
   "id": "4e121032-fe75-4056-a340-9b5b365e2ecd",
   "metadata": {},
   "outputs": [
    {
     "name": "stdout",
     "output_type": "stream",
     "text": [
      "[[1 4]\n",
      " [2 5]\n",
      " [3 6]]\n",
      "[[1 4]\n",
      " [2 5]\n",
      " [3 6]]\n"
     ]
    }
   ],
   "source": [
    "A = np.array([[1,2,3], [4,5,6]])\n",
    "R = np.einsum(\"ij->ji\", A)\n",
    "print(R)\n",
    "print(A.T)"
   ]
  },
  {
   "cell_type": "markdown",
   "id": "7c3a9e32",
   "metadata": {},
   "source": [
    "#### 93. Consider two arrays A and B of shape (8,3) and (2,2). How to find rows of A that contain elements of each row of B regardless of the order of the elements in B? (★★★)\n",
    "- 모양 (8,3)과 (2,2)의 두 배열 A와 B를 고려하십시오. B의 원소 순서와 상관없이 B의 각 행이 포함된 A의 행을 찾는 방법은 무엇입니까?\n",
    "- A에 2차원을 추가한 배열(한 행에 스칼라값만 남게됨)과 B를 비교하여 원소 4개 중 하나라도 같은 것이 있는지 찾음\n",
    "- any(3,1) 메서드를 통해 3차원그룹의 각 행들을 비교해 True값이 하나라도 있으면 True, 없으면 False를 반환\n",
    "- all() 메서드를 통해 두 값이 모두 True인 행들만 남김\n",
    "- np.where() 메서드를 통해 위에서 구한 값의 행 인덱스를 추출"
   ]
  },
  {
   "cell_type": "code",
   "execution_count": 116,
   "id": "777376e3",
   "metadata": {},
   "outputs": [
    {
     "name": "stdout",
     "output_type": "stream",
     "text": [
      "[[4 4 3]\n",
      " [0 0 1]\n",
      " [3 4 4]\n",
      " [2 3 1]\n",
      " [3 4 2]\n",
      " [0 2 0]\n",
      " [3 0 0]\n",
      " [3 1 1]]\n",
      "[[0 4]\n",
      " [1 4]]\n"
     ]
    }
   ],
   "source": [
    "A = np.random.randint(0,5,(8,3))\n",
    "B = np.random.randint(0,5,(2,2))\n",
    "print(A)\n",
    "print(B)"
   ]
  },
  {
   "cell_type": "code",
   "execution_count": 120,
   "id": "8dcce8cf-9b34-4463-8dca-e91a0f1fccf9",
   "metadata": {},
   "outputs": [
    {
     "name": "stdout",
     "output_type": "stream",
     "text": [
      "[[[[False  True]\n",
      "   [False  True]]\n",
      "\n",
      "  [[False  True]\n",
      "   [False  True]]\n",
      "\n",
      "  [[False False]\n",
      "   [False False]]]\n",
      "\n",
      "\n",
      " [[[ True False]\n",
      "   [False False]]\n",
      "\n",
      "  [[ True False]\n",
      "   [False False]]\n",
      "\n",
      "  [[False False]\n",
      "   [ True False]]]\n",
      "\n",
      "\n",
      " [[[False False]\n",
      "   [False False]]\n",
      "\n",
      "  [[False  True]\n",
      "   [False  True]]\n",
      "\n",
      "  [[False  True]\n",
      "   [False  True]]]\n",
      "\n",
      "\n",
      " [[[False False]\n",
      "   [False False]]\n",
      "\n",
      "  [[False False]\n",
      "   [False False]]\n",
      "\n",
      "  [[False False]\n",
      "   [ True False]]]\n",
      "\n",
      "\n",
      " [[[False False]\n",
      "   [False False]]\n",
      "\n",
      "  [[False  True]\n",
      "   [False  True]]\n",
      "\n",
      "  [[False False]\n",
      "   [False False]]]\n",
      "\n",
      "\n",
      " [[[ True False]\n",
      "   [False False]]\n",
      "\n",
      "  [[False False]\n",
      "   [False False]]\n",
      "\n",
      "  [[ True False]\n",
      "   [False False]]]\n",
      "\n",
      "\n",
      " [[[False False]\n",
      "   [False False]]\n",
      "\n",
      "  [[ True False]\n",
      "   [False False]]\n",
      "\n",
      "  [[ True False]\n",
      "   [False False]]]\n",
      "\n",
      "\n",
      " [[[False False]\n",
      "   [False False]]\n",
      "\n",
      "  [[False False]\n",
      "   [ True False]]\n",
      "\n",
      "  [[False False]\n",
      "   [ True False]]]]\n"
     ]
    }
   ],
   "source": [
    "C = (A[..., np.newaxis, np.newaxis] == B)\n",
    "print(C)"
   ]
  },
  {
   "cell_type": "code",
   "execution_count": 119,
   "id": "c19cac72-c33c-48ae-a4db-590bd99a67e0",
   "metadata": {},
   "outputs": [
    {
     "name": "stdout",
     "output_type": "stream",
     "text": [
      "[[[[4]]\n",
      "\n",
      "  [[4]]\n",
      "\n",
      "  [[3]]]\n",
      "\n",
      "\n",
      " [[[0]]\n",
      "\n",
      "  [[0]]\n",
      "\n",
      "  [[1]]]\n",
      "\n",
      "\n",
      " [[[3]]\n",
      "\n",
      "  [[4]]\n",
      "\n",
      "  [[4]]]\n",
      "\n",
      "\n",
      " [[[2]]\n",
      "\n",
      "  [[3]]\n",
      "\n",
      "  [[1]]]\n",
      "\n",
      "\n",
      " [[[3]]\n",
      "\n",
      "  [[4]]\n",
      "\n",
      "  [[2]]]\n",
      "\n",
      "\n",
      " [[[0]]\n",
      "\n",
      "  [[2]]\n",
      "\n",
      "  [[0]]]\n",
      "\n",
      "\n",
      " [[[3]]\n",
      "\n",
      "  [[0]]\n",
      "\n",
      "  [[0]]]\n",
      "\n",
      "\n",
      " [[[3]]\n",
      "\n",
      "  [[1]]\n",
      "\n",
      "  [[1]]]]\n"
     ]
    }
   ],
   "source": [
    "print(A[..., np.newaxis, np.newaxis])"
   ]
  },
  {
   "cell_type": "code",
   "execution_count": 68,
   "id": "f3aa1840-1dd5-43d5-8d88-0269a88cb2e3",
   "metadata": {},
   "outputs": [
    {
     "data": {
      "text/plain": [
       "(8, 3, 1, 1)"
      ]
     },
     "execution_count": 68,
     "metadata": {},
     "output_type": "execute_result"
    }
   ],
   "source": [
    "A[..., np.newaxis, np.newaxis].shape"
   ]
  },
  {
   "cell_type": "code",
   "execution_count": 121,
   "id": "144d372a-3e1d-489b-adad-5e9d7af4e05f",
   "metadata": {},
   "outputs": [
    {
     "name": "stdout",
     "output_type": "stream",
     "text": [
      "[0 1 2 4]\n"
     ]
    }
   ],
   "source": [
    "rows = np.where(C.any((3,1)).all(1))[0]\n",
    "print(rows)"
   ]
  },
  {
   "cell_type": "code",
   "execution_count": 66,
   "id": "f6f8fa17-2442-45cd-b53a-6ebbf4279e77",
   "metadata": {},
   "outputs": [
    {
     "data": {
      "text/plain": [
       "array([2, 6, 7], dtype=int64)"
      ]
     },
     "execution_count": 66,
     "metadata": {},
     "output_type": "execute_result"
    }
   ],
   "source": [
    "np.where(C.any((3,1)).all(1))[0]"
   ]
  },
  {
   "cell_type": "markdown",
   "id": "da9d5eeb",
   "metadata": {},
   "source": [
    "#### 94. Considering a 10x3 matrix, extract rows with unequal values (e.g. [2,2,3]) (★★★)"
   ]
  },
  {
   "cell_type": "code",
   "execution_count": 122,
   "id": "67dbea5c",
   "metadata": {},
   "outputs": [
    {
     "name": "stdout",
     "output_type": "stream",
     "text": [
      "[[0 3 3]\n",
      " [0 3 1]\n",
      " [3 2 0]\n",
      " [4 0 4]\n",
      " [4 1 3]\n",
      " [1 3 3]\n",
      " [0 0 4]\n",
      " [0 2 4]\n",
      " [2 2 0]\n",
      " [2 2 1]]\n",
      "[[0 3 3]\n",
      " [0 3 1]\n",
      " [3 2 0]\n",
      " [4 0 4]\n",
      " [4 1 3]\n",
      " [1 3 3]\n",
      " [0 0 4]\n",
      " [0 2 4]\n",
      " [2 2 0]\n",
      " [2 2 1]]\n"
     ]
    }
   ],
   "source": [
    "Z = np.random.randint(0,5,(10,3))\n",
    "# solution for arrays of all dtypes (including string arrays and record arrays)\n",
    "E = np.all(Z[:,1:] == Z[:,:-1], axis=1)\n",
    "U = Z[~E]\n",
    "print(U)\n",
    "# soluiton for numerical arrays only, will work for any number of columns in Z\n",
    "U = Z[Z.max(axis=1) != Z.min(axis=1),:]\n",
    "print(U)"
   ]
  },
  {
   "cell_type": "markdown",
   "id": "f7b65fd5",
   "metadata": {},
   "source": [
    "#### 95. Convert a vector of ints into a matrix binary representation (★★★)\n",
    "- 정수를 원소로 가진 벡터를 행렬 이진수 표현으로 변환하기\n",
    "    - reshape과 and조건 등을 활용해 이진수 표현\n",
    "    - np.unpackbits() 메서드 활용"
   ]
  },
  {
   "cell_type": "code",
   "execution_count": 87,
   "id": "291656b7-8c9d-453f-a88f-7773456ced8e",
   "metadata": {},
   "outputs": [
    {
     "data": {
      "text/plain": [
       "array([[  0],\n",
       "       [  1],\n",
       "       [  2],\n",
       "       [  3],\n",
       "       [ 15],\n",
       "       [ 16],\n",
       "       [ 32],\n",
       "       [ 64],\n",
       "       [128]])"
      ]
     },
     "execution_count": 87,
     "metadata": {},
     "output_type": "execute_result"
    }
   ],
   "source": [
    "I.reshape(-1,1)"
   ]
  },
  {
   "cell_type": "code",
   "execution_count": 91,
   "id": "11bc516b-9980-452d-a8a5-99bcf46e46f4",
   "metadata": {},
   "outputs": [
    {
     "data": {
      "text/plain": [
       "array([[  0,   0,   0,   0,   0,   0,   0,   0],\n",
       "       [  1,   0,   0,   0,   0,   0,   0,   0],\n",
       "       [  0,   2,   0,   0,   0,   0,   0,   0],\n",
       "       [  1,   2,   0,   0,   0,   0,   0,   0],\n",
       "       [  1,   2,   4,   8,   0,   0,   0,   0],\n",
       "       [  0,   0,   0,   0,  16,   0,   0,   0],\n",
       "       [  0,   0,   0,   0,   0,  32,   0,   0],\n",
       "       [  0,   0,   0,   0,   0,   0,  64,   0],\n",
       "       [  0,   0,   0,   0,   0,   0,   0, 128]], dtype=int32)"
      ]
     },
     "execution_count": 91,
     "metadata": {},
     "output_type": "execute_result"
    }
   ],
   "source": [
    "# and 조건을 활용해 각 원소값과 같은 값이 되도록 배치 (이진수 표현)\n",
    "(I.reshape(-1,1) & (2**np.arange(8)))"
   ]
  },
  {
   "cell_type": "code",
   "execution_count": 92,
   "id": "b7852f20-7b1e-4979-80f5-0fda923e24ce",
   "metadata": {},
   "outputs": [
    {
     "data": {
      "text/plain": [
       "array([[False, False, False, False, False, False, False, False],\n",
       "       [ True, False, False, False, False, False, False, False],\n",
       "       [False,  True, False, False, False, False, False, False],\n",
       "       [ True,  True, False, False, False, False, False, False],\n",
       "       [ True,  True,  True,  True, False, False, False, False],\n",
       "       [False, False, False, False,  True, False, False, False],\n",
       "       [False, False, False, False, False,  True, False, False],\n",
       "       [False, False, False, False, False, False,  True, False],\n",
       "       [False, False, False, False, False, False, False,  True]])"
      ]
     },
     "execution_count": 92,
     "metadata": {},
     "output_type": "execute_result"
    }
   ],
   "source": [
    "# bool형을 통해 0이 아닌 값 찾아내고 .astype(int)를 통해 숫자 1과 0으로 바꿔주기\n",
    "((I.reshape(-1,1) & (2**np.arange(8))) != 0)"
   ]
  },
  {
   "cell_type": "code",
   "execution_count": 123,
   "id": "7ac209f6-e748-4f54-8455-b125fd1d453f",
   "metadata": {},
   "outputs": [
    {
     "data": {
      "text/plain": [
       "array([[0, 0, 0, 0, 0, 0, 0, 0],\n",
       "       [1, 0, 0, 0, 0, 0, 0, 0],\n",
       "       [0, 1, 0, 0, 0, 0, 0, 0],\n",
       "       [1, 1, 0, 0, 0, 0, 0, 0],\n",
       "       [1, 1, 1, 1, 0, 0, 0, 0],\n",
       "       [0, 0, 0, 0, 1, 0, 0, 0],\n",
       "       [0, 0, 0, 0, 0, 1, 0, 0],\n",
       "       [0, 0, 0, 0, 0, 0, 1, 0],\n",
       "       [0, 0, 0, 0, 0, 0, 0, 1]])"
      ]
     },
     "execution_count": 123,
     "metadata": {},
     "output_type": "execute_result"
    }
   ],
   "source": [
    "# bool형을 통해 0이 아닌 값 찾아내고 .astype(int)를 통해 숫자 1과 0으로 바꿔주기\n",
    "((I.reshape(-1,1) & (2**np.arange(8))) != 0).astype(int)"
   ]
  },
  {
   "cell_type": "code",
   "execution_count": 93,
   "id": "127294ed",
   "metadata": {},
   "outputs": [
    {
     "name": "stdout",
     "output_type": "stream",
     "text": [
      "[[0 0 0 0 0 0 0 0]\n",
      " [0 0 0 0 0 0 0 1]\n",
      " [0 0 0 0 0 0 1 0]\n",
      " [0 0 0 0 0 0 1 1]\n",
      " [0 0 0 0 1 1 1 1]\n",
      " [0 0 0 1 0 0 0 0]\n",
      " [0 0 1 0 0 0 0 0]\n",
      " [0 1 0 0 0 0 0 0]\n",
      " [1 0 0 0 0 0 0 0]]\n"
     ]
    }
   ],
   "source": [
    "I = np.array([0, 1, 2, 3, 15, 16, 32, 64, 128])\n",
    "B = ((I.reshape(-1,1) & (2**np.arange(8))) != 0).astype(int)\n",
    "# np.arange()를 사용했기 때문에 기존 이진수 표현법과 반대로 표기, [:,::-1]를 통해 원소를 반대로 배치해줌\n",
    "print(B[:,::-1])"
   ]
  },
  {
   "cell_type": "code",
   "execution_count": 75,
   "id": "04bf21c4-588e-463c-bd66-6bfcdaf58cd3",
   "metadata": {},
   "outputs": [
    {
     "name": "stdout",
     "output_type": "stream",
     "text": [
      "[[0 0 0 0 0 0 0 0]\n",
      " [0 0 0 0 0 0 0 1]\n",
      " [0 0 0 0 0 0 1 0]\n",
      " [0 0 0 0 0 0 1 1]\n",
      " [0 0 0 0 1 1 1 1]\n",
      " [0 0 0 1 0 0 0 0]\n",
      " [0 0 1 0 0 0 0 0]\n",
      " [0 1 0 0 0 0 0 0]\n",
      " [1 0 0 0 0 0 0 0]]\n"
     ]
    }
   ],
   "source": [
    "# np.unpackbits()를 통한 방법\n",
    "I = np.array([0, 1, 2, 3, 15, 16, 32, 64, 128], dtype=np.uint8)\n",
    "print(np.unpackbits(I[:, np.newaxis], axis=1))"
   ]
  },
  {
   "cell_type": "markdown",
   "id": "2784c996",
   "metadata": {
    "tags": []
   },
   "source": [
    "#### 96. Given a two dimensional array, how to extract unique rows? (★★★)\n",
    "- 2차원 배열이 주어졌을 때 고유 행을 추출하는 방법은 무엇입니까?\n",
    "- np.unique()를 통해 고유(중복되지 않는)행 추출\n",
    "- numpy 1.13 버전 이전에는 다른 방법 사용"
   ]
  },
  {
   "cell_type": "code",
   "execution_count": 101,
   "id": "f030595f",
   "metadata": {},
   "outputs": [
    {
     "name": "stdout",
     "output_type": "stream",
     "text": [
      "[[0 0 1]\n",
      " [0 1 0]\n",
      " [0 1 1]\n",
      " [1 1 0]]\n"
     ]
    }
   ],
   "source": [
    "Z = np.random.randint(0,2,(6,3))\n",
    "uZ = np.unique(Z, axis=0)\n",
    "print(uZ)"
   ]
  },
  {
   "cell_type": "code",
   "execution_count": 100,
   "id": "360aa9e5-ceee-4fe7-9571-585dc0e58daa",
   "metadata": {},
   "outputs": [
    {
     "name": "stdout",
     "output_type": "stream",
     "text": [
      "[[0 0 0]\n",
      " [0 1 0]\n",
      " [1 0 0]\n",
      " [1 1 0]]\n"
     ]
    }
   ],
   "source": [
    "# numpy 1.13 ver 이전\n",
    "\n",
    "Z = np.random.randint(0,2,(6,3))\n",
    "T = np.ascontiguousarray(Z).view(np.dtype((np.void, Z.dtype.itemsize * Z.shape[1])))\n",
    "_, idx = np.unique(T, return_index=True)\n",
    "uZ = Z[idx]\n",
    "print(uZ)"
   ]
  },
  {
   "cell_type": "markdown",
   "id": "71a7574c",
   "metadata": {},
   "source": [
    "#### 97. Considering 2 vectors A & B, write the einsum equivalent of inner, outer, sum, and mul function (★★★)\n",
    "- 2개의 벡터 A와 B를 고려하여 내부곱(내적), 외부곱(외적), 더하기, 곱하기 함수에 해당하는 einsum을 작성한다.\n",
    "- einsum 관련문서(문제 저자 추천) : https://ajcr.net/Basic-guide-to-einsum/"
   ]
  },
  {
   "cell_type": "code",
   "execution_count": 103,
   "id": "721c4e1a",
   "metadata": {},
   "outputs": [
    {
     "data": {
      "text/plain": [
       "array([[9.77245554e-05, 3.80773638e-03, 1.72334959e-02, 3.40838503e-02,\n",
       "        3.23377919e-02, 2.24987846e-02, 3.50152535e-02, 2.34281591e-02,\n",
       "        7.03875993e-03, 3.11682147e-02],\n",
       "       [2.56240875e-03, 9.98416105e-02, 4.51874767e-01, 8.93703284e-01,\n",
       "        8.47920368e-01, 5.89934457e-01, 9.18125352e-01, 6.14303331e-01,\n",
       "        1.84561392e-01, 8.17253205e-01],\n",
       "       [5.46227498e-04, 2.12831903e-02, 9.63259369e-02, 1.90510319e-01,\n",
       "        1.80750796e-01, 1.25756058e-01, 1.95716360e-01, 1.30950759e-01,\n",
       "        3.93428674e-02, 1.74213491e-01],\n",
       "       [1.68095698e-03, 6.54967527e-02, 2.96432817e-01, 5.86275228e-01,\n",
       "        5.56241334e-01, 3.87000881e-01, 6.02296265e-01, 4.02987023e-01,\n",
       "        1.21073487e-01, 5.36123474e-01],\n",
       "       [1.13119593e-04, 4.40758811e-03, 1.99483746e-02, 3.94532495e-02,\n",
       "        3.74321258e-02, 2.60431305e-02, 4.05313812e-02, 2.71189141e-02,\n",
       "        8.14761094e-03, 3.60782993e-02],\n",
       "       [1.31520441e-03, 5.12455815e-02, 2.31933210e-01, 4.58709993e-01,\n",
       "        4.35211051e-01, 3.02794938e-01, 4.71245078e-01, 3.15302720e-01,\n",
       "        9.47296004e-02, 4.19470554e-01],\n",
       "       [1.65554474e-03, 6.45065911e-02, 2.91951429e-01, 5.77412083e-01,\n",
       "        5.47832233e-01, 3.81150310e-01, 5.93190918e-01, 3.96894778e-01,\n",
       "        1.19243131e-01, 5.28018509e-01],\n",
       "       [4.41144342e-04, 1.71887337e-02, 7.77947690e-02, 1.53859975e-01,\n",
       "        1.45977988e-01, 1.01563128e-01, 1.58064479e-01, 1.05758474e-01,\n",
       "        3.17740931e-02, 1.40698328e-01],\n",
       "       [1.56837394e-04, 6.11100709e-03, 2.76579063e-02, 5.47009116e-02,\n",
       "        5.18986758e-02, 3.61081280e-02, 5.61957134e-02, 3.75996741e-02,\n",
       "        1.12964522e-02, 5.00216303e-02],\n",
       "       [2.04748715e-03, 7.97782221e-02, 3.61069552e-01, 7.14111669e-01,\n",
       "        6.77528929e-01, 4.71385847e-01, 7.33626069e-01, 4.90857743e-01,\n",
       "        1.47473380e-01, 6.53024399e-01]])"
      ]
     },
     "execution_count": 103,
     "metadata": {},
     "output_type": "execute_result"
    }
   ],
   "source": [
    "A = np.random.uniform(0,1,10)\n",
    "B = np.random.uniform(0,1,10)\n",
    "\n",
    "np.einsum('i->', A)       # np.sum(A)\n",
    "np.einsum('i,i->i', A, B) # A * B\n",
    "np.einsum('i,i', A, B)    # np.inner(A, B)\n",
    "np.einsum('i,j->ij', A, B)    # np.outer(A, B)"
   ]
  },
  {
   "cell_type": "markdown",
   "id": "30f06441",
   "metadata": {},
   "source": [
    "#### 98. Considering a path described by two vectors (X,Y), how to sample it using equidistant samples (★★★)?\n",
    "- 두 벡터(X,Y)가 설명하는 경로를 고려하여 등거리 표본을 사용하여 샘플링하는 방법"
   ]
  },
  {
   "cell_type": "code",
   "execution_count": 105,
   "id": "fb41c022",
   "metadata": {},
   "outputs": [],
   "source": [
    "phi = np.arange(0, 10*np.pi, 0.1)\n",
    "a = 1\n",
    "x = a*phi*np.cos(phi)\n",
    "y = a*phi*np.sin(phi)\n",
    "\n",
    "dr = (np.diff(x)**2 + np.diff(y)**2)**.5 # segment lengths\n",
    "r = np.zeros_like(x)\n",
    "r[1:] = np.cumsum(dr)                # integrate path\n",
    "r_int = np.linspace(0, r.max(), 200) # regular spaced path\n",
    "x_int = np.interp(r_int, r, x)       # integrate path\n",
    "y_int = np.interp(r_int, r, y)"
   ]
  },
  {
   "cell_type": "markdown",
   "id": "e5737276",
   "metadata": {},
   "source": [
    "#### 99. Given an integer n and a 2D array X, select from X the rows which can be interpreted as draws from a multinomial distribution with n degrees, i.e., the rows which only contain integers and which sum to n. (★★★)\n",
    "- 정수 n과 2D 배열 X가 주어지면, X에서 n도를 갖는 다항 분포에서 끌어온 것으로 해석될 수 있는 행을 선택합니다."
   ]
  },
  {
   "cell_type": "code",
   "execution_count": 107,
   "id": "68c333b0",
   "metadata": {},
   "outputs": [
    {
     "name": "stdout",
     "output_type": "stream",
     "text": [
      "[[2. 0. 1. 1.]]\n"
     ]
    }
   ],
   "source": [
    "X = np.asarray([[1.0, 0.0, 3.0, 8.0],\n",
    "                [2.0, 0.0, 1.0, 1.0],\n",
    "                [1.5, 2.5, 1.0, 0.0]])\n",
    "n = 4\n",
    "M = np.logical_and.reduce(np.mod(X, 1) == 0, axis=-1)\n",
    "M &= (X.sum(axis=-1) == n)\n",
    "print(X[M])"
   ]
  },
  {
   "cell_type": "markdown",
   "id": "5882e36d",
   "metadata": {},
   "source": [
    "#### 100. Compute bootstrapped 95% confidence intervals for the mean of a 1D array X (i.e., resample the elements of an array with replacement N times, compute the mean of each sample, and then compute percentiles over the means). (★★★)\n",
    "- 1D 어레이 X의 평균에 대한 부트스트랩 95% 신뢰 구간 계산(즉, 어레이의 요소를 교체 N회로 다시 샘플링하고 각 표본의 평균을 계산한 다음 평균에 대한 백분위수를 계산)\n",
    "- 부트스트랩 계산 : 표본으로 주어진 데이터를 기준으로 복원 표집(이미 표집된 표본까지 포함)하여 통계량을 구하는 것\n",
    "    - 관련 문서(블로그 learning carrot님) : https://learningcarrot.wordpress.com/2015/11/12/%EB%B6%80%ED%8A%B8%EC%8A%A4%ED%8A%B8%EB%9E%A9%EC%97%90-%EB%8C%80%ED%95%98%EC%97%AC-bootstrapping/\n",
    "- np.percentile()로 백분위 %단위의 중분위수를 구한다.\n",
    "    - np.percentile 공식 문서 : https://numpy.org/doc/stable/reference/generated/numpy.percentile.html"
   ]
  },
  {
   "cell_type": "code",
   "execution_count": 114,
   "id": "d1b566e5",
   "metadata": {},
   "outputs": [
    {
     "name": "stdout",
     "output_type": "stream",
     "text": [
      "[-0.06785416  0.3349777 ]\n"
     ]
    }
   ],
   "source": [
    "X = np.random.randn(100) # random 1D array\n",
    "N = 1000 # number of bootstrap samples\n",
    "idx = np.random.randint(0, X.size, (N, X.size))\n",
    "means = X[idx].mean(axis=1)\n",
    "confint = np.percentile(means, [2.5, 97.5]) # 각각 백분율 2.5%와 97.5%의 중분위수\n",
    "print(confint)"
   ]
  }
 ],
 "metadata": {
  "kernelspec": {
   "display_name": "Python 3 (ipykernel)",
   "language": "python",
   "name": "python3"
  },
  "language_info": {
   "codemirror_mode": {
    "name": "ipython",
    "version": 3
   },
   "file_extension": ".py",
   "mimetype": "text/x-python",
   "name": "python",
   "nbconvert_exporter": "python",
   "pygments_lexer": "ipython3",
   "version": "3.9.7"
  }
 },
 "nbformat": 4,
 "nbformat_minor": 5
}
